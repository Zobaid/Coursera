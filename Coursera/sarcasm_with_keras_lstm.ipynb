{
  "nbformat": 4,
  "nbformat_minor": 0,
  "metadata": {
    "kernelspec": {
      "name": "python3",
      "display_name": "Python 3"
    },
    "language_info": {
      "codemirror_mode": {
        "name": "ipython",
        "version": 3
      },
      "file_extension": ".py",
      "mimetype": "text/x-python",
      "name": "python",
      "nbconvert_exporter": "python",
      "pygments_lexer": "ipython3",
      "version": "3.6.6"
    },
    "colab": {
      "name": "sarcasm-with-keras-lstm.ipynb",
      "provenance": [],
      "include_colab_link": true
    },
    "accelerator": "GPU"
  },
  "cells": [
    {
      "cell_type": "markdown",
      "metadata": {
        "id": "view-in-github",
        "colab_type": "text"
      },
      "source": [
        "<a href=\"https://colab.research.google.com/github/andi23/Custlr-AI/blob/Zobaid_branch/Coursera/sarcasm_with_keras_lstm.ipynb\" target=\"_parent\"><img src=\"https://colab.research.google.com/assets/colab-badge.svg\" alt=\"Open In Colab\"/></a>"
      ]
    },
    {
      "cell_type": "code",
      "metadata": {
        "id": "aoJvDba0H134",
        "colab_type": "code",
        "colab": {
          "base_uri": "https://localhost:8080/",
          "height": 120
        },
        "outputId": "dd8209bf-6a88-45e5-d71f-e730de55234f"
      },
      "source": [
        "from google.colab import drive\n",
        "\n",
        "drive.mount('/content/gdrive')"
      ],
      "execution_count": 2,
      "outputs": [
        {
          "output_type": "stream",
          "text": [
            "Go to this URL in a browser: https://accounts.google.com/o/oauth2/auth?client_id=947318989803-6bn6qk8qdgf4n4g3pfee6491hc0brc4i.apps.googleusercontent.com&redirect_uri=urn%3aietf%3awg%3aoauth%3a2.0%3aoob&response_type=code&scope=email%20https%3a%2f%2fwww.googleapis.com%2fauth%2fdocs.test%20https%3a%2f%2fwww.googleapis.com%2fauth%2fdrive%20https%3a%2f%2fwww.googleapis.com%2fauth%2fdrive.photos.readonly%20https%3a%2f%2fwww.googleapis.com%2fauth%2fpeopleapi.readonly\n",
            "\n",
            "Enter your authorization code:\n",
            "··········\n",
            "Mounted at /content/gdrive\n"
          ],
          "name": "stdout"
        }
      ]
    },
    {
      "cell_type": "markdown",
      "metadata": {
        "_cell_guid": "79c7e3d0-c299-4dcb-8224-4455121ee9b0",
        "_uuid": "d629ff2d2480ee46fbb7e2d37f6b5fab8052498a",
        "collapsed": true,
        "id": "SNB4_lvdEEDe",
        "colab_type": "text"
      },
      "source": [
        "**Loading and Viewing the Sample Dataset**"
      ]
    },
    {
      "cell_type": "code",
      "metadata": {
        "_kg_hide-input": true,
        "_uuid": "e5d60bf284406a913f4da8bf03a22870150f1d70",
        "id": "CDK5VSxAEEDg",
        "colab_type": "code",
        "outputId": "19fdd1c7-df2d-402c-ecc7-3461b2cae67b",
        "colab": {
          "base_uri": "https://localhost:8080/",
          "height": 280
        }
      },
      "source": [
        "import pandas as pd\n",
        "pd.set_option('display.max_colwidth', -1)\n",
        "path = '/content/gdrive/My Drive/Colab Notebooks/Sarcasm_Dataset/'\n",
        "sar_acc = pd.read_json(path+ 'Sarcasm_Headlines_Dataset.json',lines=True)\n",
        "import re\n",
        "sar_acc['source'] = sar_acc['article_link'].apply(lambda x: re.findall(r'\\w+', x)[2])\n",
        "sar_acc.head()"
      ],
      "execution_count": 1,
      "outputs": [
        {
          "output_type": "execute_result",
          "data": {
            "text/html": [
              "<div>\n",
              "<style scoped>\n",
              "    .dataframe tbody tr th:only-of-type {\n",
              "        vertical-align: middle;\n",
              "    }\n",
              "\n",
              "    .dataframe tbody tr th {\n",
              "        vertical-align: top;\n",
              "    }\n",
              "\n",
              "    .dataframe thead th {\n",
              "        text-align: right;\n",
              "    }\n",
              "</style>\n",
              "<table border=\"1\" class=\"dataframe\">\n",
              "  <thead>\n",
              "    <tr style=\"text-align: right;\">\n",
              "      <th></th>\n",
              "      <th>article_link</th>\n",
              "      <th>headline</th>\n",
              "      <th>is_sarcastic</th>\n",
              "      <th>source</th>\n",
              "    </tr>\n",
              "  </thead>\n",
              "  <tbody>\n",
              "    <tr>\n",
              "      <th>0</th>\n",
              "      <td>https://www.huffingtonpost.com/entry/versace-black-code_us_5861fbefe4b0de3a08f600d5</td>\n",
              "      <td>former versace store clerk sues over secret 'black code' for minority shoppers</td>\n",
              "      <td>0</td>\n",
              "      <td>huffingtonpost</td>\n",
              "    </tr>\n",
              "    <tr>\n",
              "      <th>1</th>\n",
              "      <td>https://www.huffingtonpost.com/entry/roseanne-revival-review_us_5ab3a497e4b054d118e04365</td>\n",
              "      <td>the 'roseanne' revival catches up to our thorny political mood, for better and worse</td>\n",
              "      <td>0</td>\n",
              "      <td>huffingtonpost</td>\n",
              "    </tr>\n",
              "    <tr>\n",
              "      <th>2</th>\n",
              "      <td>https://local.theonion.com/mom-starting-to-fear-son-s-web-series-closest-thing-she-1819576697</td>\n",
              "      <td>mom starting to fear son's web series closest thing she will have to grandchild</td>\n",
              "      <td>1</td>\n",
              "      <td>theonion</td>\n",
              "    </tr>\n",
              "    <tr>\n",
              "      <th>3</th>\n",
              "      <td>https://politics.theonion.com/boehner-just-wants-wife-to-listen-not-come-up-with-alt-1819574302</td>\n",
              "      <td>boehner just wants wife to listen, not come up with alternative debt-reduction ideas</td>\n",
              "      <td>1</td>\n",
              "      <td>theonion</td>\n",
              "    </tr>\n",
              "    <tr>\n",
              "      <th>4</th>\n",
              "      <td>https://www.huffingtonpost.com/entry/jk-rowling-wishes-snape-happy-birthday_us_569117c4e4b0cad15e64fdcb</td>\n",
              "      <td>j.k. rowling wishes snape happy birthday in the most magical way</td>\n",
              "      <td>0</td>\n",
              "      <td>huffingtonpost</td>\n",
              "    </tr>\n",
              "  </tbody>\n",
              "</table>\n",
              "</div>"
            ],
            "text/plain": [
              "                                                                                              article_link  ...          source\n",
              "0  https://www.huffingtonpost.com/entry/versace-black-code_us_5861fbefe4b0de3a08f600d5                      ...  huffingtonpost\n",
              "1  https://www.huffingtonpost.com/entry/roseanne-revival-review_us_5ab3a497e4b054d118e04365                 ...  huffingtonpost\n",
              "2  https://local.theonion.com/mom-starting-to-fear-son-s-web-series-closest-thing-she-1819576697            ...  theonion      \n",
              "3  https://politics.theonion.com/boehner-just-wants-wife-to-listen-not-come-up-with-alt-1819574302          ...  theonion      \n",
              "4  https://www.huffingtonpost.com/entry/jk-rowling-wishes-snape-happy-birthday_us_569117c4e4b0cad15e64fdcb  ...  huffingtonpost\n",
              "\n",
              "[5 rows x 4 columns]"
            ]
          },
          "metadata": {
            "tags": []
          },
          "execution_count": 1
        }
      ]
    },
    {
      "cell_type": "markdown",
      "metadata": {
        "_uuid": "107998a67d3f6057983ccbb62cb819e9d0b34585",
        "id": "XeVaScjuEEDs",
        "colab_type": "text"
      },
      "source": [
        "**Summary statistics of the Dataset**"
      ]
    },
    {
      "cell_type": "code",
      "metadata": {
        "id": "AoojxZOaJdhH",
        "colab_type": "code",
        "colab": {
          "base_uri": "https://localhost:8080/",
          "height": 486
        },
        "outputId": "5bbd272e-6c0b-44cf-894d-327959242f11"
      },
      "source": [
        "!pip install plotly==3.10.0"
      ],
      "execution_count": 7,
      "outputs": [
        {
          "output_type": "stream",
          "text": [
            "Collecting plotly==3.10.0\n",
            "\u001b[?25l  Downloading https://files.pythonhosted.org/packages/ff/75/3982bac5076d0ce6d23103c03840fcaec90c533409f9d82c19f54512a38a/plotly-3.10.0-py2.py3-none-any.whl (41.5MB)\n",
            "\u001b[K     |████████████████████████████████| 41.5MB 73kB/s \n",
            "\u001b[?25hRequirement already satisfied: nbformat>=4.2 in /usr/local/lib/python3.6/dist-packages (from plotly==3.10.0) (5.0.4)\n",
            "Requirement already satisfied: retrying>=1.3.3 in /usr/local/lib/python3.6/dist-packages (from plotly==3.10.0) (1.3.3)\n",
            "Requirement already satisfied: requests in /usr/local/lib/python3.6/dist-packages (from plotly==3.10.0) (2.21.0)\n",
            "Requirement already satisfied: pytz in /usr/local/lib/python3.6/dist-packages (from plotly==3.10.0) (2018.9)\n",
            "Requirement already satisfied: decorator>=4.0.6 in /usr/local/lib/python3.6/dist-packages (from plotly==3.10.0) (4.4.1)\n",
            "Requirement already satisfied: six in /usr/local/lib/python3.6/dist-packages (from plotly==3.10.0) (1.12.0)\n",
            "Requirement already satisfied: ipython-genutils in /usr/local/lib/python3.6/dist-packages (from nbformat>=4.2->plotly==3.10.0) (0.2.0)\n",
            "Requirement already satisfied: traitlets>=4.1 in /usr/local/lib/python3.6/dist-packages (from nbformat>=4.2->plotly==3.10.0) (4.3.3)\n",
            "Requirement already satisfied: jsonschema!=2.5.0,>=2.4 in /usr/local/lib/python3.6/dist-packages (from nbformat>=4.2->plotly==3.10.0) (2.6.0)\n",
            "Requirement already satisfied: jupyter-core in /usr/local/lib/python3.6/dist-packages (from nbformat>=4.2->plotly==3.10.0) (4.6.2)\n",
            "Requirement already satisfied: idna<2.9,>=2.5 in /usr/local/lib/python3.6/dist-packages (from requests->plotly==3.10.0) (2.8)\n",
            "Requirement already satisfied: chardet<3.1.0,>=3.0.2 in /usr/local/lib/python3.6/dist-packages (from requests->plotly==3.10.0) (3.0.4)\n",
            "Requirement already satisfied: certifi>=2017.4.17 in /usr/local/lib/python3.6/dist-packages (from requests->plotly==3.10.0) (2019.11.28)\n",
            "Requirement already satisfied: urllib3<1.25,>=1.21.1 in /usr/local/lib/python3.6/dist-packages (from requests->plotly==3.10.0) (1.24.3)\n",
            "\u001b[31mERROR: cufflinks 0.17.0 has requirement plotly>=4.1.1, but you'll have plotly 3.10.0 which is incompatible.\u001b[0m\n",
            "Installing collected packages: plotly\n",
            "  Found existing installation: plotly 4.4.1\n",
            "    Uninstalling plotly-4.4.1:\n",
            "      Successfully uninstalled plotly-4.4.1\n",
            "Successfully installed plotly-3.10.0\n"
          ],
          "name": "stdout"
        },
        {
          "output_type": "display_data",
          "data": {
            "application/vnd.colab-display-data+json": {
              "pip_warning": {
                "packages": [
                  "_plotly_future_",
                  "_plotly_utils",
                  "plotly"
                ]
              }
            }
          },
          "metadata": {
            "tags": []
          }
        }
      ]
    },
    {
      "cell_type": "code",
      "metadata": {
        "_kg_hide-input": true,
        "_uuid": "f5328c63d36c9d92ec8b8ca74bfe9da5327fcc07",
        "id": "DSALSKkdEEDv",
        "colab_type": "code",
        "outputId": "7b87ea7c-b931-485e-a620-8397043b51ac",
        "colab": {
          "base_uri": "https://localhost:8080/",
          "height": 542
        }
      },
      "source": [
        "import numpy as np\n",
        "import plotly.plotly as py\n",
        "import plotly.graph_objs as go\n",
        "from plotly.offline import download_plotlyjs, init_notebook_mode, plot, iplot\n",
        "init_notebook_mode(connected=True)\n",
        "\n",
        "sar_acc_tar = sar_acc['is_sarcastic'].value_counts()\n",
        "labels = ['Acclaim', 'Sarcastic']\n",
        "sizes = (np.array((sar_acc_tar / sar_acc_tar.sum())*100))\n",
        "colors = ['#58D68D', '#9B59B6']\n",
        "\n",
        "trace = go.Pie(labels=labels, values=sizes, opacity = 0.8, hoverinfo='label+percent',\n",
        "               marker=dict(colors=colors, line=dict(color='#FFFFFF', width=2)))\n",
        "layout = go.Layout(\n",
        "    title='Sarcastic Vs Acclaim'\n",
        ")\n",
        "data = [trace]\n",
        "fig = go.Figure(data=data, layout=layout)\n",
        "iplot(fig, filename=\"Sa_Ac\")"
      ],
      "execution_count": 3,
      "outputs": [
        {
          "output_type": "display_data",
          "data": {
            "text/html": [
              "        <script type=\"text/javascript\">\n",
              "        window.PlotlyConfig = {MathJaxConfig: 'local'};\n",
              "        if (window.MathJax) {MathJax.Hub.Config({SVG: {font: \"STIX-Web\"}});}\n",
              "        if (typeof require !== 'undefined') {\n",
              "        require.undef(\"plotly\");\n",
              "        requirejs.config({\n",
              "            paths: {\n",
              "                'plotly': ['https://cdn.plot.ly/plotly-latest.min']\n",
              "            }\n",
              "        });\n",
              "        require(['plotly'], function(Plotly) {\n",
              "            window._Plotly = Plotly;\n",
              "        });\n",
              "        }\n",
              "        </script>\n",
              "        "
            ]
          },
          "metadata": {
            "tags": []
          }
        },
        {
          "output_type": "display_data",
          "data": {
            "text/html": [
              "<div>\n",
              "        \n",
              "        \n",
              "            <div id=\"00006c8e-3662-4e38-8235-9f612796b43f\" class=\"plotly-graph-div\" style=\"height:525px; width:100%;\"></div>\n",
              "            <script type=\"text/javascript\">\n",
              "                require([\"plotly\"], function(Plotly) {\n",
              "                    window.PLOTLYENV=window.PLOTLYENV || {};\n",
              "                    window.PLOTLYENV.BASE_URL='https://plot.ly';\n",
              "                    \n",
              "                if (document.getElementById(\"00006c8e-3662-4e38-8235-9f612796b43f\")) {\n",
              "                    Plotly.newPlot(\n",
              "                        '00006c8e-3662-4e38-8235-9f612796b43f',\n",
              "                        [{\"hoverinfo\": \"label+percent\", \"labels\": [\"Acclaim\", \"Sarcastic\"], \"marker\": {\"colors\": [\"#58D68D\", \"#9B59B6\"], \"line\": {\"color\": \"#FFFFFF\", \"width\": 2}}, \"opacity\": 0.8, \"type\": \"pie\", \"uid\": \"09ced560-9000-49f2-ac1b-05143348346b\", \"values\": [56.10468381444457, 43.89531618555543]}],\n",
              "                        {\"title\": {\"text\": \"Sarcastic Vs Acclaim\"}},\n",
              "                        {\"showLink\": false, \"linkText\": \"Export to plot.ly\", \"plotlyServerURL\": \"https://plot.ly\", \"responsive\": true}\n",
              "                    ).then(function(){\n",
              "                            \n",
              "var gd = document.getElementById('00006c8e-3662-4e38-8235-9f612796b43f');\n",
              "var x = new MutationObserver(function (mutations, observer) {{\n",
              "        var display = window.getComputedStyle(gd).display;\n",
              "        if (!display || display === 'none') {{\n",
              "            console.log([gd, 'removed!']);\n",
              "            Plotly.purge(gd);\n",
              "            observer.disconnect();\n",
              "        }}\n",
              "}});\n",
              "\n",
              "// Listen for the removal of the full notebook cells\n",
              "var notebookContainer = gd.closest('#notebook-container');\n",
              "if (notebookContainer) {{\n",
              "    x.observe(notebookContainer, {childList: true});\n",
              "}}\n",
              "\n",
              "// Listen for the clearing of the current output cell\n",
              "var outputEl = gd.closest('.output');\n",
              "if (outputEl) {{\n",
              "    x.observe(outputEl, {childList: true});\n",
              "}}\n",
              "\n",
              "                        })\n",
              "                };\n",
              "                });\n",
              "            </script>\n",
              "        </div>"
            ],
            "application/vnd.plotly.v1+json": {
              "data": [
                {
                  "opacity": 0.8,
                  "uid": "09ced560-9000-49f2-ac1b-05143348346b",
                  "labels": [
                    "Acclaim",
                    "Sarcastic"
                  ],
                  "values": [
                    56.10468381444457,
                    43.89531618555543
                  ],
                  "hoverinfo": "label+percent",
                  "marker": {
                    "colors": [
                      "#58D68D",
                      "#9B59B6"
                    ],
                    "line": {
                      "color": "#FFFFFF",
                      "width": 2
                    }
                  },
                  "type": "pie"
                }
              ],
              "config": {
                "plotlyServerURL": "https://plot.ly",
                "linkText": "Export to plot.ly",
                "showLink": false
              },
              "layout": {
                "title": {
                  "text": "Sarcastic Vs Acclaim"
                }
              }
            }
          },
          "metadata": {
            "tags": []
          }
        }
      ]
    },
    {
      "cell_type": "markdown",
      "metadata": {
        "_uuid": "6196a1433cc6edfc4ffa4e59ed3b1c309473db0a",
        "id": "kTshb1IBEED2",
        "colab_type": "text"
      },
      "source": [
        "**Frequent Occuring word (unclean) in Headlines**"
      ]
    },
    {
      "cell_type": "code",
      "metadata": {
        "_kg_hide-input": true,
        "_uuid": "9ffde3a1b581c0545a51df2d1c238217fa229fc7",
        "id": "WJLFGsg8EED4",
        "colab_type": "code",
        "outputId": "4fd73bab-42e9-4645-8f59-57207194e058",
        "colab": {
          "base_uri": "https://localhost:8080/",
          "height": 542
        }
      },
      "source": [
        "all_words = sar_acc['headline'].str.split(expand=True).unstack().value_counts()\n",
        "data = [go.Bar(\n",
        "            x = all_words.index.values[2:50],\n",
        "            y = all_words.values[2:50],\n",
        "            marker= dict(colorscale='Viridis',\n",
        "                         color = all_words.values[2:100]\n",
        "                        ),\n",
        "            text='Word counts'\n",
        "    )]\n",
        "\n",
        "layout = go.Layout(\n",
        "    title='Frequent Occuring word (unclean) in Headlines'\n",
        ")\n",
        "\n",
        "fig = go.Figure(data=data, layout=layout)\n",
        "\n",
        "iplot(fig, filename='basic-bar')"
      ],
      "execution_count": 4,
      "outputs": [
        {
          "output_type": "display_data",
          "data": {
            "text/html": [
              "<div>\n",
              "        \n",
              "        \n",
              "            <div id=\"0cc8c298-cf31-40ff-9bcb-6fb005af204d\" class=\"plotly-graph-div\" style=\"height:525px; width:100%;\"></div>\n",
              "            <script type=\"text/javascript\">\n",
              "                require([\"plotly\"], function(Plotly) {\n",
              "                    window.PLOTLYENV=window.PLOTLYENV || {};\n",
              "                    window.PLOTLYENV.BASE_URL='https://plot.ly';\n",
              "                    \n",
              "                if (document.getElementById(\"0cc8c298-cf31-40ff-9bcb-6fb005af204d\")) {\n",
              "                    Plotly.newPlot(\n",
              "                        '0cc8c298-cf31-40ff-9bcb-6fb005af204d',\n",
              "                        [{\"marker\": {\"color\": [5177, 4170, 3297, 2961, 2371, 1885, 1797, 1666, 1485, 1229, 1221, 1189, 1157, 1051, 914, 885, 882, 838, 812, 802, 773, 770, 753, 731, 723, 699, 648, 648, 630, 613, 578, 570, 564, 559, 551, 531, 524, 513, 489, 489, 487, 484, 468, 466, 450, 438, 420, 410, 391, 389, 388, 387, 385, 384, 382, 369, 368, 345, 341, 336, 334, 326, 325, 323, 320, 320, 319, 314, 312, 310, 301, 294, 290, 288, 286, 284, 281, 279, 276, 271, 265, 257, 257, 254, 253, 249, 245, 244, 244, 238, 235, 231, 230, 229, 228, 228, 227, 226], \"colorscale\": \"Viridis\"}, \"text\": \"Word counts\", \"type\": \"bar\", \"uid\": \"4eb94b71-18ba-46a9-91c3-2a4269297860\", \"x\": [\"the\", \"in\", \"for\", \"a\", \"on\", \"and\", \"with\", \"is\", \"new\", \"man\", \"from\", \"at\", \"trump\", \"about\", \"you\", \"by\", \"this\", \"after\", \"be\", \"how\", \"out\", \"as\", \"that\", \"up\", \"it\", \"not\", \"your\", \"are\", \"his\", \"what\", \"he\", \"just\", \"who\", \"has\", \"will\", \"more\", \"all\", \"into\", \"why\", \"have\", \"one\", \"area\", \"donald\", \"over\", \"says\", \"can\", \"woman\", \"u.s.\"], \"y\": [5177, 4170, 3297, 2961, 2371, 1885, 1797, 1666, 1485, 1229, 1221, 1189, 1157, 1051, 914, 885, 882, 838, 812, 802, 773, 770, 753, 731, 723, 699, 648, 648, 630, 613, 578, 570, 564, 559, 551, 531, 524, 513, 489, 489, 487, 484, 468, 466, 450, 438, 420, 410]}],\n",
              "                        {\"title\": {\"text\": \"Frequent Occuring word (unclean) in Headlines\"}},\n",
              "                        {\"showLink\": false, \"linkText\": \"Export to plot.ly\", \"plotlyServerURL\": \"https://plot.ly\", \"responsive\": true}\n",
              "                    ).then(function(){\n",
              "                            \n",
              "var gd = document.getElementById('0cc8c298-cf31-40ff-9bcb-6fb005af204d');\n",
              "var x = new MutationObserver(function (mutations, observer) {{\n",
              "        var display = window.getComputedStyle(gd).display;\n",
              "        if (!display || display === 'none') {{\n",
              "            console.log([gd, 'removed!']);\n",
              "            Plotly.purge(gd);\n",
              "            observer.disconnect();\n",
              "        }}\n",
              "}});\n",
              "\n",
              "// Listen for the removal of the full notebook cells\n",
              "var notebookContainer = gd.closest('#notebook-container');\n",
              "if (notebookContainer) {{\n",
              "    x.observe(notebookContainer, {childList: true});\n",
              "}}\n",
              "\n",
              "// Listen for the clearing of the current output cell\n",
              "var outputEl = gd.closest('.output');\n",
              "if (outputEl) {{\n",
              "    x.observe(outputEl, {childList: true});\n",
              "}}\n",
              "\n",
              "                        })\n",
              "                };\n",
              "                });\n",
              "            </script>\n",
              "        </div>"
            ],
            "application/vnd.plotly.v1+json": {
              "data": [
                {
                  "uid": "4eb94b71-18ba-46a9-91c3-2a4269297860",
                  "text": "Word counts",
                  "y": [
                    5177,
                    4170,
                    3297,
                    2961,
                    2371,
                    1885,
                    1797,
                    1666,
                    1485,
                    1229,
                    1221,
                    1189,
                    1157,
                    1051,
                    914,
                    885,
                    882,
                    838,
                    812,
                    802,
                    773,
                    770,
                    753,
                    731,
                    723,
                    699,
                    648,
                    648,
                    630,
                    613,
                    578,
                    570,
                    564,
                    559,
                    551,
                    531,
                    524,
                    513,
                    489,
                    489,
                    487,
                    484,
                    468,
                    466,
                    450,
                    438,
                    420,
                    410
                  ],
                  "marker": {
                    "color": [
                      5177,
                      4170,
                      3297,
                      2961,
                      2371,
                      1885,
                      1797,
                      1666,
                      1485,
                      1229,
                      1221,
                      1189,
                      1157,
                      1051,
                      914,
                      885,
                      882,
                      838,
                      812,
                      802,
                      773,
                      770,
                      753,
                      731,
                      723,
                      699,
                      648,
                      648,
                      630,
                      613,
                      578,
                      570,
                      564,
                      559,
                      551,
                      531,
                      524,
                      513,
                      489,
                      489,
                      487,
                      484,
                      468,
                      466,
                      450,
                      438,
                      420,
                      410,
                      391,
                      389,
                      388,
                      387,
                      385,
                      384,
                      382,
                      369,
                      368,
                      345,
                      341,
                      336,
                      334,
                      326,
                      325,
                      323,
                      320,
                      320,
                      319,
                      314,
                      312,
                      310,
                      301,
                      294,
                      290,
                      288,
                      286,
                      284,
                      281,
                      279,
                      276,
                      271,
                      265,
                      257,
                      257,
                      254,
                      253,
                      249,
                      245,
                      244,
                      244,
                      238,
                      235,
                      231,
                      230,
                      229,
                      228,
                      228,
                      227,
                      226
                    ],
                    "colorscale": "Viridis"
                  },
                  "x": [
                    "the",
                    "in",
                    "for",
                    "a",
                    "on",
                    "and",
                    "with",
                    "is",
                    "new",
                    "man",
                    "from",
                    "at",
                    "trump",
                    "about",
                    "you",
                    "by",
                    "this",
                    "after",
                    "be",
                    "how",
                    "out",
                    "as",
                    "that",
                    "up",
                    "it",
                    "not",
                    "your",
                    "are",
                    "his",
                    "what",
                    "he",
                    "just",
                    "who",
                    "has",
                    "will",
                    "more",
                    "all",
                    "into",
                    "why",
                    "have",
                    "one",
                    "area",
                    "donald",
                    "over",
                    "says",
                    "can",
                    "woman",
                    "u.s."
                  ],
                  "type": "bar"
                }
              ],
              "config": {
                "plotlyServerURL": "https://plot.ly",
                "linkText": "Export to plot.ly",
                "showLink": false
              },
              "layout": {
                "title": {
                  "text": "Frequent Occuring word (unclean) in Headlines"
                }
              }
            }
          },
          "metadata": {
            "tags": []
          }
        }
      ]
    },
    {
      "cell_type": "code",
      "metadata": {
        "_kg_hide-input": true,
        "_uuid": "2eaccfaabe08a0a81c2072211d63fd6ed8e5030f",
        "id": "LfL5i-lfEEED",
        "colab_type": "code",
        "colab": {}
      },
      "source": [
        "sar_det = sar_acc[sar_acc.is_sarcastic==1]\n",
        "sar_det.reset_index(drop=True, inplace=True)\n",
        "acc_det = sar_acc[sar_acc.is_sarcastic==0]\n",
        "acc_det.reset_index(drop=True, inplace=True)\n",
        "\n",
        "# Tokenizing the Headlines of Sarcasm\n",
        "sar_news = []\n",
        "for rows in range(0, sar_det.shape[0]):\n",
        "    head_txt = sar_det.headline[rows]\n",
        "    head_txt = head_txt.split(\" \")\n",
        "    sar_news.append(head_txt)\n",
        "\n",
        "#Converting into single list for Sarcasm\n",
        "import itertools\n",
        "sar_list = list(itertools.chain(*sar_news))\n",
        "\n",
        "# Tokenizing the Headlines of Acclaim\n",
        "acc_news = []\n",
        "for rows in range(0, acc_det.shape[0]):\n",
        "    head_txt = acc_det.headline[rows]\n",
        "    head_txt = head_txt.split(\" \")\n",
        "    acc_news.append(head_txt)\n",
        "    \n",
        "#Converting into single list for Acclaim\n",
        "acc_list = list(itertools.chain(*acc_news))"
      ],
      "execution_count": 0,
      "outputs": []
    },
    {
      "cell_type": "code",
      "metadata": {
        "id": "o-_R98KVLsOE",
        "colab_type": "code",
        "colab": {
          "base_uri": "https://localhost:8080/",
          "height": 67
        },
        "outputId": "77c6cdcb-cfd8-44fa-9c89-f90e5a6d1dec"
      },
      "source": [
        "import nltk\n",
        "nltk.download('stopwords')"
      ],
      "execution_count": 9,
      "outputs": [
        {
          "output_type": "stream",
          "text": [
            "[nltk_data] Downloading package stopwords to /root/nltk_data...\n",
            "[nltk_data]   Unzipping corpora/stopwords.zip.\n"
          ],
          "name": "stdout"
        },
        {
          "output_type": "execute_result",
          "data": {
            "text/plain": [
              "True"
            ]
          },
          "metadata": {
            "tags": []
          },
          "execution_count": 9
        }
      ]
    },
    {
      "cell_type": "code",
      "metadata": {
        "_kg_hide-input": true,
        "_uuid": "b7b50bbff2e48215419647c0e01edc6612a16935",
        "id": "bLaJ0QGZEEEN",
        "colab_type": "code",
        "outputId": "66628bc0-58b0-48de-cc3c-bc13db3f36dc",
        "colab": {
          "base_uri": "https://localhost:8080/",
          "height": 100
        }
      },
      "source": [
        "stopwords = nltk.corpus.stopwords.words('english')\n",
        "sar_list_restp = [word for word in sar_list if word.lower() not in stopwords]\n",
        "acc_list_restp = [word for word in acc_list if word.lower() not in stopwords]\n",
        "\n",
        "print(\"Length of original Sarcasm list: {0} words\\n\"\n",
        "      \"Length of Sarcasm list after stopwords removal: {1} words\"\n",
        "      .format(len(sar_list), len(sar_list_restp)))\n",
        "\n",
        "print(\"==\"*46)\n",
        "\n",
        "print(\"Length of original Acclaim list: {0} words\\n\"\n",
        "      \"Length of Acclaim list after stopwords removal: {1} words\"\n",
        "      .format(len(acc_list), len(acc_list_restp)))"
      ],
      "execution_count": 10,
      "outputs": [
        {
          "output_type": "stream",
          "text": [
            "Length of original Sarcasm list: 115898 words\n",
            "Length of Sarcasm list after stopwords removal: 87458 words\n",
            "============================================================================================\n",
            "Length of original Acclaim list: 147128 words\n",
            "Length of Acclaim list after stopwords removal: 103525 words\n"
          ],
          "name": "stdout"
        }
      ]
    },
    {
      "cell_type": "markdown",
      "metadata": {
        "_uuid": "5754e719aa407019cc4fd716a0e2bf42043de6ba",
        "id": "0dZMReO9EEEU",
        "colab_type": "text"
      },
      "source": [
        "**Top 30 Occuring words after removing Stopwords from Headlines - Sarcasm Vs Acclaim**"
      ]
    },
    {
      "cell_type": "code",
      "metadata": {
        "_kg_hide-input": true,
        "_uuid": "74d3a273ddfebcc7ca9034550b7d918c4f20a6f8",
        "id": "Xyz8z8FuEEEW",
        "colab_type": "code",
        "colab": {}
      },
      "source": [
        "#Data cleaning for getting top 30\n",
        "from collections import Counter\n",
        "sar_cnt = Counter(sar_list_restp)\n",
        "acc_cnt = Counter(acc_list_restp)\n",
        "\n",
        "#Dictonary to Dataframe\n",
        "sar_cnt_df = pd.DataFrame(list(sar_cnt.items()), columns = ['Words', 'Freq'])\n",
        "sar_cnt_df = sar_cnt_df.sort_values(by=['Freq'], ascending=False)\n",
        "acc_cnt_df = pd.DataFrame(list(acc_cnt.items()), columns = ['Words', 'Freq'])\n",
        "acc_cnt_df = acc_cnt_df.sort_values(by=['Freq'], ascending=False)\n",
        "\n",
        "#Top 30\n",
        "sar_cnt_df_30 = sar_cnt_df.head(30)\n",
        "acc_cnt_df_30 = acc_cnt_df.head(30)"
      ],
      "execution_count": 0,
      "outputs": []
    },
    {
      "cell_type": "code",
      "metadata": {
        "_kg_hide-input": true,
        "_uuid": "40b3de2340ee70b7d411e666fab118f17fc630ee",
        "id": "Ukne9TwkEEEd",
        "colab_type": "code",
        "outputId": "97a21975-7a8f-4c04-c6cc-bf2c8314d067",
        "colab": {
          "base_uri": "https://localhost:8080/",
          "height": 1000
        }
      },
      "source": [
        "#Plotting the top 30 Sarcasm Vs Acclaim\n",
        "from plotly import tools\n",
        "sar_tr  = go.Bar(\n",
        "    x=sar_cnt_df_30['Freq'],\n",
        "    y=sar_cnt_df_30['Words'],\n",
        "    name='Sarcasm',\n",
        "    marker=dict(\n",
        "        color='rgba(155, 89, 182, 0.6)',\n",
        "        line=dict(\n",
        "            color='rgba(155, 89, 182, 1.0)',\n",
        "            width=.3,\n",
        "        )\n",
        "    ),\n",
        "    orientation='h',\n",
        "    opacity=0.6\n",
        ")\n",
        "\n",
        "acc_tr  = go.Bar(\n",
        "    x=acc_cnt_df_30['Freq'],\n",
        "    y=acc_cnt_df_30['Words'],\n",
        "    name='Acclaim',\n",
        "    marker=dict(\n",
        "        color='rgba(88, 214, 141, 0.6)',\n",
        "        line=dict(\n",
        "            color='rgba(88, 214, 141, 1.0)',\n",
        "            width=.3,\n",
        "        )\n",
        "    ),\n",
        "    orientation='h',\n",
        "    opacity=0.6\n",
        ")\n",
        "\n",
        "fig = tools.make_subplots(rows=2, cols=1, subplot_titles=('Top 30 Most occuring words in Sarcasm Headlines',\n",
        "                                                          'Top 30 Most occuring words in Acclaim Headlines'))\n",
        "\n",
        "fig.append_trace(sar_tr, 1, 1)\n",
        "fig.append_trace(acc_tr, 2, 1)\n",
        "\n",
        "\n",
        "fig['layout'].update(height=1200, width=800)\n",
        "\n",
        "iplot(fig, filename='sar_vs_acc')"
      ],
      "execution_count": 12,
      "outputs": [
        {
          "output_type": "stream",
          "text": [
            "This is the format of your plot grid:\n",
            "[ (1,1) x1,y1 ]\n",
            "[ (2,1) x2,y2 ]\n",
            "\n"
          ],
          "name": "stdout"
        },
        {
          "output_type": "display_data",
          "data": {
            "text/html": [
              "<div>\n",
              "        \n",
              "        \n",
              "            <div id=\"b717e8f9-135f-463a-ad5a-ee44e0ffcdcf\" class=\"plotly-graph-div\" style=\"height:1200px; width:800px;\"></div>\n",
              "            <script type=\"text/javascript\">\n",
              "                require([\"plotly\"], function(Plotly) {\n",
              "                    window.PLOTLYENV=window.PLOTLYENV || {};\n",
              "                    window.PLOTLYENV.BASE_URL='https://plot.ly';\n",
              "                    \n",
              "                if (document.getElementById(\"b717e8f9-135f-463a-ad5a-ee44e0ffcdcf\")) {\n",
              "                    Plotly.newPlot(\n",
              "                        'b717e8f9-135f-463a-ad5a-ee44e0ffcdcf',\n",
              "                        [{\"marker\": {\"color\": \"rgba(155, 89, 182, 0.6)\", \"line\": {\"color\": \"rgba(155, 89, 182, 1.0)\", \"width\": 0.3}}, \"name\": \"Sarcasm\", \"opacity\": 0.6, \"orientation\": \"h\", \"type\": \"bar\", \"uid\": \"200e560d-ecff-4792-832c-b8b507a49ee4\", \"x\": [1021, 821, 477, 360, 290, 253, 213, 208, 207, 200, 193, 187, 187, 187, 173, 171, 169, 169, 166, 157, 157, 152, 147, 146, 144, 142, 133, 131, 130, 126], \"xaxis\": \"x\", \"y\": [\"man\", \"new\", \"area\", \"report:\", \"woman\", \"one\", \"time\", \"still\", \"day\", \"trump\", \"nation\", \"get\", \"u.s.\", \"like\", \"finds\", \"back\", \"americans\", \"first\", \"family\", \"house\", \"obama\", \"life\", \"last\", \"going\", \"local\", \"nation's\", \"people\", \"white\", \"study\", \"little\"], \"yaxis\": \"y\"}, {\"marker\": {\"color\": \"rgba(88, 214, 141, 0.6)\", \"line\": {\"color\": \"rgba(88, 214, 141, 1.0)\", \"width\": 0.3}}, \"name\": \"Acclaim\", \"opacity\": 0.6, \"orientation\": \"h\", \"type\": \"bar\", \"uid\": \"c227a222-89c8-4ec9-931e-efbeae01d04e\", \"x\": [957, 664, 453, 364, 346, 240, 234, 223, 220, 209, 208, 208, 198, 195, 192, 184, 183, 182, 179, 170, 170, 169, 169, 168, 168, 166, 162, 162, 162, 161], \"xaxis\": \"x2\", \"y\": [\"trump\", \"new\", \"donald\", \"trump's\", \"says\", \"women\", \"one\", \"u.s.\", \"first\", \"make\", \"people\", \"man\", \"get\", \"like\", \"gop\", \"day\", \"could\", \"5\", \"black\", \"need\", \"white\", \"clinton\", \"world\", \"obama\", \"police\", \"here's\", \"health\", \"life\", \"house\", \"bill\"], \"yaxis\": \"y2\"}],\n",
              "                        {\"annotations\": [{\"font\": {\"size\": 16}, \"showarrow\": false, \"text\": \"Top 30 Most occuring words in Sarcasm Headlines\", \"x\": 0.5, \"xanchor\": \"center\", \"xref\": \"paper\", \"y\": 1.0, \"yanchor\": \"bottom\", \"yref\": \"paper\"}, {\"font\": {\"size\": 16}, \"showarrow\": false, \"text\": \"Top 30 Most occuring words in Acclaim Headlines\", \"x\": 0.5, \"xanchor\": \"center\", \"xref\": \"paper\", \"y\": 0.375, \"yanchor\": \"bottom\", \"yref\": \"paper\"}], \"height\": 1200, \"width\": 800, \"xaxis\": {\"anchor\": \"y\", \"domain\": [0.0, 1.0]}, \"xaxis2\": {\"anchor\": \"y2\", \"domain\": [0.0, 1.0]}, \"yaxis\": {\"anchor\": \"x\", \"domain\": [0.625, 1.0]}, \"yaxis2\": {\"anchor\": \"x2\", \"domain\": [0.0, 0.375]}},\n",
              "                        {\"showLink\": false, \"linkText\": \"Export to plot.ly\", \"plotlyServerURL\": \"https://plot.ly\", \"responsive\": true}\n",
              "                    ).then(function(){\n",
              "                            \n",
              "var gd = document.getElementById('b717e8f9-135f-463a-ad5a-ee44e0ffcdcf');\n",
              "var x = new MutationObserver(function (mutations, observer) {{\n",
              "        var display = window.getComputedStyle(gd).display;\n",
              "        if (!display || display === 'none') {{\n",
              "            console.log([gd, 'removed!']);\n",
              "            Plotly.purge(gd);\n",
              "            observer.disconnect();\n",
              "        }}\n",
              "}});\n",
              "\n",
              "// Listen for the removal of the full notebook cells\n",
              "var notebookContainer = gd.closest('#notebook-container');\n",
              "if (notebookContainer) {{\n",
              "    x.observe(notebookContainer, {childList: true});\n",
              "}}\n",
              "\n",
              "// Listen for the clearing of the current output cell\n",
              "var outputEl = gd.closest('.output');\n",
              "if (outputEl) {{\n",
              "    x.observe(outputEl, {childList: true});\n",
              "}}\n",
              "\n",
              "                        })\n",
              "                };\n",
              "                });\n",
              "            </script>\n",
              "        </div>"
            ],
            "application/vnd.plotly.v1+json": {
              "data": [
                {
                  "opacity": 0.6,
                  "name": "Sarcasm",
                  "yaxis": "y",
                  "orientation": "h",
                  "y": [
                    "man",
                    "new",
                    "area",
                    "report:",
                    "woman",
                    "one",
                    "time",
                    "still",
                    "day",
                    "trump",
                    "nation",
                    "get",
                    "u.s.",
                    "like",
                    "finds",
                    "back",
                    "americans",
                    "first",
                    "family",
                    "house",
                    "obama",
                    "life",
                    "last",
                    "going",
                    "local",
                    "nation's",
                    "people",
                    "white",
                    "study",
                    "little"
                  ],
                  "xaxis": "x",
                  "marker": {
                    "color": "rgba(155, 89, 182, 0.6)",
                    "line": {
                      "color": "rgba(155, 89, 182, 1.0)",
                      "width": 0.3
                    }
                  },
                  "x": [
                    1021,
                    821,
                    477,
                    360,
                    290,
                    253,
                    213,
                    208,
                    207,
                    200,
                    193,
                    187,
                    187,
                    187,
                    173,
                    171,
                    169,
                    169,
                    166,
                    157,
                    157,
                    152,
                    147,
                    146,
                    144,
                    142,
                    133,
                    131,
                    130,
                    126
                  ],
                  "type": "bar",
                  "uid": "200e560d-ecff-4792-832c-b8b507a49ee4"
                },
                {
                  "opacity": 0.6,
                  "name": "Acclaim",
                  "yaxis": "y2",
                  "orientation": "h",
                  "y": [
                    "trump",
                    "new",
                    "donald",
                    "trump's",
                    "says",
                    "women",
                    "one",
                    "u.s.",
                    "first",
                    "make",
                    "people",
                    "man",
                    "get",
                    "like",
                    "gop",
                    "day",
                    "could",
                    "5",
                    "black",
                    "need",
                    "white",
                    "clinton",
                    "world",
                    "obama",
                    "police",
                    "here's",
                    "health",
                    "life",
                    "house",
                    "bill"
                  ],
                  "xaxis": "x2",
                  "marker": {
                    "color": "rgba(88, 214, 141, 0.6)",
                    "line": {
                      "color": "rgba(88, 214, 141, 1.0)",
                      "width": 0.3
                    }
                  },
                  "x": [
                    957,
                    664,
                    453,
                    364,
                    346,
                    240,
                    234,
                    223,
                    220,
                    209,
                    208,
                    208,
                    198,
                    195,
                    192,
                    184,
                    183,
                    182,
                    179,
                    170,
                    170,
                    169,
                    169,
                    168,
                    168,
                    166,
                    162,
                    162,
                    162,
                    161
                  ],
                  "type": "bar",
                  "uid": "c227a222-89c8-4ec9-931e-efbeae01d04e"
                }
              ],
              "config": {
                "plotlyServerURL": "https://plot.ly",
                "linkText": "Export to plot.ly",
                "showLink": false
              },
              "layout": {
                "yaxis": {
                  "domain": [
                    0.625,
                    1
                  ],
                  "anchor": "x"
                },
                "xaxis2": {
                  "domain": [
                    0,
                    1
                  ],
                  "anchor": "y2"
                },
                "height": 1200,
                "width": 800,
                "yaxis2": {
                  "domain": [
                    0,
                    0.375
                  ],
                  "anchor": "x2"
                },
                "xaxis": {
                  "domain": [
                    0,
                    1
                  ],
                  "anchor": "y"
                },
                "annotations": [
                  {
                    "yanchor": "bottom",
                    "xref": "paper",
                    "xanchor": "center",
                    "yref": "paper",
                    "text": "Top 30 Most occuring words in Sarcasm Headlines",
                    "y": 1,
                    "x": 0.5,
                    "font": {
                      "size": 16
                    },
                    "showarrow": false
                  },
                  {
                    "yanchor": "bottom",
                    "xref": "paper",
                    "xanchor": "center",
                    "yref": "paper",
                    "text": "Top 30 Most occuring words in Acclaim Headlines",
                    "y": 0.375,
                    "x": 0.5,
                    "font": {
                      "size": 16
                    },
                    "showarrow": false
                  }
                ]
              }
            }
          },
          "metadata": {
            "tags": []
          }
        }
      ]
    },
    {
      "cell_type": "markdown",
      "metadata": {
        "_uuid": "48dfb17dfaa11d4e9887fe780b120b46827dda11",
        "id": "3_J0yY51EEEm",
        "colab_type": "text"
      },
      "source": [
        "**Example of SnowballStemmer**"
      ]
    },
    {
      "cell_type": "code",
      "metadata": {
        "_kg_hide-input": true,
        "_uuid": "c230709af7d0dfebebaa808551fe04293ad1d7be",
        "id": "-R9BslshEEEo",
        "colab_type": "code",
        "outputId": "d820c9af-3b33-418a-b29e-e5656e405344",
        "colab": {
          "base_uri": "https://localhost:8080/",
          "height": 117
        }
      },
      "source": [
        "stemmer = nltk.stem.SnowballStemmer(\"english\", ignore_stopwords=True)\n",
        "\n",
        "print(\"The stemmed form of learning is: {}\".format(stemmer.stem(\"learning\")))\n",
        "print(\"The stemmed form of learns is: {}\".format(stemmer.stem(\"learns\")))\n",
        "print(\"The stemmed form of learn is: {}\".format(stemmer.stem(\"learn\")))\n",
        "print(\"==\"*46)\n",
        "print(\"The stemmed form of leaves is: {}\".format(stemmer.stem(\"leaves\")))\n",
        "print(\"==\"*46)"
      ],
      "execution_count": 13,
      "outputs": [
        {
          "output_type": "stream",
          "text": [
            "The stemmed form of learning is: learn\n",
            "The stemmed form of learns is: learn\n",
            "The stemmed form of learn is: learn\n",
            "============================================================================================\n",
            "The stemmed form of leaves is: leav\n",
            "============================================================================================\n"
          ],
          "name": "stdout"
        }
      ]
    },
    {
      "cell_type": "code",
      "metadata": {
        "_kg_hide-input": true,
        "_uuid": "a2200780f2b1d867bc4ce976becb45305e3b86e7",
        "id": "bH5z2hXBEEEz",
        "colab_type": "code",
        "outputId": "b3ceebd3-186a-4465-949c-ca34c3391217",
        "colab": {
          "base_uri": "https://localhost:8080/",
          "height": 67
        }
      },
      "source": [
        "nltk.download('wordnet')\n",
        "from nltk.stem import WordNetLemmatizer\n",
        "lemm = WordNetLemmatizer()\n",
        "print(\"The lemmatized form of leaves is: {}\".format(lemm.lemmatize(\"leaves\")))"
      ],
      "execution_count": 15,
      "outputs": [
        {
          "output_type": "stream",
          "text": [
            "[nltk_data] Downloading package wordnet to /root/nltk_data...\n",
            "[nltk_data]   Unzipping corpora/wordnet.zip.\n",
            "The lemmatized form of leaves is: leaf\n"
          ],
          "name": "stdout"
        }
      ]
    },
    {
      "cell_type": "code",
      "metadata": {
        "_kg_hide-input": true,
        "_uuid": "c48fd677b5027efa8de22f6763cd2d13efe8d1db",
        "id": "h2PRRe3oEEE6",
        "colab_type": "code",
        "colab": {}
      },
      "source": [
        "#Sarcasm headline after Lemmatization\n",
        "sar_wost_lem = []\n",
        "for batch in sar_news:\n",
        "    sar_list_restp = [word for word in batch if word.lower() not in stopwords]\n",
        "    lemm = WordNetLemmatizer()\n",
        "    sar_list_lemm =  [lemm.lemmatize(word) for word in sar_list_restp]\n",
        "    sar_wost_lem.append(sar_list_lemm)\n",
        "\n",
        "#Acclaim headline after Lemmatization\n",
        "acc_wost_lem = []\n",
        "for batch in acc_news:\n",
        "    acc_list_restp = [word for word in batch if word.lower() not in stopwords]\n",
        "    lemm = WordNetLemmatizer()\n",
        "    acc_list_lemm =  [lemm.lemmatize(word) for word in acc_list_restp]\n",
        "    acc_wost_lem.append(sar_list_lemm)"
      ],
      "execution_count": 0,
      "outputs": []
    },
    {
      "cell_type": "code",
      "metadata": {
        "_kg_hide-input": true,
        "_uuid": "39dbdcf86f1dbbf254560ac14a876f5fc8f4f64b",
        "id": "2_9zsFFnEEFE",
        "colab_type": "code",
        "outputId": "47b1dc7d-e3cd-4e2b-e0c5-8a187e8fe518",
        "colab": {
          "base_uri": "https://localhost:8080/",
          "height": 201
        }
      },
      "source": [
        "from sklearn.feature_extraction.text import CountVectorizer\n",
        "vec = []\n",
        "for block in sar_wost_lem:\n",
        "    vectorizer = CountVectorizer(min_df=0)\n",
        "    sentence_transform = vectorizer.fit_transform(block)\n",
        "    vec.append(sentence_transform)\n",
        "    \n",
        "print(\"The features are:\\n {}\".format(vectorizer.get_feature_names()))\n",
        "print(\"\\nThe vectorized array looks like:\\n {}\".format(sentence_transform.toarray()))"
      ],
      "execution_count": 17,
      "outputs": [
        {
          "output_type": "stream",
          "text": [
            "The features are:\n",
            " ['christmas', 'francis', 'got', 'pope', 'sweater', 'vestment', 'wearing']\n",
            "\n",
            "The vectorized array looks like:\n",
            " [[0 0 0 1 0 0 0]\n",
            " [0 1 0 0 0 0 0]\n",
            " [0 0 0 0 0 0 1]\n",
            " [0 0 0 0 1 0 0]\n",
            " [0 0 0 0 0 1 0]\n",
            " [0 0 1 0 0 0 0]\n",
            " [1 0 0 0 0 0 0]]\n"
          ],
          "name": "stdout"
        }
      ]
    },
    {
      "cell_type": "code",
      "metadata": {
        "_kg_hide-input": true,
        "_uuid": "42c2747bd29fb175d664536c5a3ebac3fa87464e",
        "id": "uVh6n2fpEEFP",
        "colab_type": "code",
        "outputId": "493b3b9b-7f5b-4b5e-b396-e1f0e7fe27f8",
        "colab": {
          "base_uri": "https://localhost:8080/",
          "height": 369
        }
      },
      "source": [
        "# Converting all sarcasm keywords to single list after lemmatization\n",
        "from matplotlib import pyplot as plt\n",
        "%matplotlib inline\n",
        "sar_list_wd = list(itertools.chain(*sar_wost_lem))\n",
        "from wordcloud import WordCloud\n",
        "sar_cloud = WordCloud(background_color='black', width=20000,height=10000).\\\n",
        "                generate(\" \".join(sar_list_wd))\n",
        "plt.imshow(sar_cloud)\n",
        "plt.axis('off')\n",
        "plt.show()"
      ],
      "execution_count": 18,
      "outputs": [
        {
          "output_type": "error",
          "ename": "KeyboardInterrupt",
          "evalue": "ignored",
          "traceback": [
            "\u001b[0;31m---------------------------------------------------------------------------\u001b[0m",
            "\u001b[0;31mKeyboardInterrupt\u001b[0m                         Traceback (most recent call last)",
            "\u001b[0;32m<ipython-input-18-4296b22c7dcf>\u001b[0m in \u001b[0;36m<module>\u001b[0;34m()\u001b[0m\n\u001b[1;32m      3\u001b[0m \u001b[0msar_list_wd\u001b[0m \u001b[0;34m=\u001b[0m \u001b[0mlist\u001b[0m\u001b[0;34m(\u001b[0m\u001b[0mitertools\u001b[0m\u001b[0;34m.\u001b[0m\u001b[0mchain\u001b[0m\u001b[0;34m(\u001b[0m\u001b[0;34m*\u001b[0m\u001b[0msar_wost_lem\u001b[0m\u001b[0;34m)\u001b[0m\u001b[0;34m)\u001b[0m\u001b[0;34m\u001b[0m\u001b[0;34m\u001b[0m\u001b[0m\n\u001b[1;32m      4\u001b[0m \u001b[0;32mfrom\u001b[0m \u001b[0mwordcloud\u001b[0m \u001b[0;32mimport\u001b[0m \u001b[0mWordCloud\u001b[0m\u001b[0;34m\u001b[0m\u001b[0;34m\u001b[0m\u001b[0m\n\u001b[0;32m----> 5\u001b[0;31m \u001b[0msar_cloud\u001b[0m \u001b[0;34m=\u001b[0m \u001b[0mWordCloud\u001b[0m\u001b[0;34m(\u001b[0m\u001b[0mbackground_color\u001b[0m\u001b[0;34m=\u001b[0m\u001b[0;34m'black'\u001b[0m\u001b[0;34m,\u001b[0m \u001b[0mwidth\u001b[0m\u001b[0;34m=\u001b[0m\u001b[0;36m20000\u001b[0m\u001b[0;34m,\u001b[0m\u001b[0mheight\u001b[0m\u001b[0;34m=\u001b[0m\u001b[0;36m10000\u001b[0m\u001b[0;34m)\u001b[0m\u001b[0;34m.\u001b[0m                \u001b[0mgenerate\u001b[0m\u001b[0;34m(\u001b[0m\u001b[0;34m\" \"\u001b[0m\u001b[0;34m.\u001b[0m\u001b[0mjoin\u001b[0m\u001b[0;34m(\u001b[0m\u001b[0msar_list_wd\u001b[0m\u001b[0;34m)\u001b[0m\u001b[0;34m)\u001b[0m\u001b[0;34m\u001b[0m\u001b[0;34m\u001b[0m\u001b[0m\n\u001b[0m\u001b[1;32m      6\u001b[0m \u001b[0mplt\u001b[0m\u001b[0;34m.\u001b[0m\u001b[0mimshow\u001b[0m\u001b[0;34m(\u001b[0m\u001b[0msar_cloud\u001b[0m\u001b[0;34m)\u001b[0m\u001b[0;34m\u001b[0m\u001b[0;34m\u001b[0m\u001b[0m\n\u001b[1;32m      7\u001b[0m \u001b[0mplt\u001b[0m\u001b[0;34m.\u001b[0m\u001b[0maxis\u001b[0m\u001b[0;34m(\u001b[0m\u001b[0;34m'off'\u001b[0m\u001b[0;34m)\u001b[0m\u001b[0;34m\u001b[0m\u001b[0;34m\u001b[0m\u001b[0m\n",
            "\u001b[0;32m/usr/local/lib/python3.6/dist-packages/wordcloud/wordcloud.py\u001b[0m in \u001b[0;36mgenerate\u001b[0;34m(self, text)\u001b[0m\n\u001b[1;32m    603\u001b[0m         \u001b[0mself\u001b[0m\u001b[0;34m\u001b[0m\u001b[0;34m\u001b[0m\u001b[0m\n\u001b[1;32m    604\u001b[0m         \"\"\"\n\u001b[0;32m--> 605\u001b[0;31m         \u001b[0;32mreturn\u001b[0m \u001b[0mself\u001b[0m\u001b[0;34m.\u001b[0m\u001b[0mgenerate_from_text\u001b[0m\u001b[0;34m(\u001b[0m\u001b[0mtext\u001b[0m\u001b[0;34m)\u001b[0m\u001b[0;34m\u001b[0m\u001b[0;34m\u001b[0m\u001b[0m\n\u001b[0m\u001b[1;32m    606\u001b[0m \u001b[0;34m\u001b[0m\u001b[0m\n\u001b[1;32m    607\u001b[0m     \u001b[0;32mdef\u001b[0m \u001b[0m_check_generated\u001b[0m\u001b[0;34m(\u001b[0m\u001b[0mself\u001b[0m\u001b[0;34m)\u001b[0m\u001b[0;34m:\u001b[0m\u001b[0;34m\u001b[0m\u001b[0;34m\u001b[0m\u001b[0m\n",
            "\u001b[0;32m/usr/local/lib/python3.6/dist-packages/wordcloud/wordcloud.py\u001b[0m in \u001b[0;36mgenerate_from_text\u001b[0;34m(self, text)\u001b[0m\n\u001b[1;32m    585\u001b[0m         \"\"\"\n\u001b[1;32m    586\u001b[0m         \u001b[0mwords\u001b[0m \u001b[0;34m=\u001b[0m \u001b[0mself\u001b[0m\u001b[0;34m.\u001b[0m\u001b[0mprocess_text\u001b[0m\u001b[0;34m(\u001b[0m\u001b[0mtext\u001b[0m\u001b[0;34m)\u001b[0m\u001b[0;34m\u001b[0m\u001b[0;34m\u001b[0m\u001b[0m\n\u001b[0;32m--> 587\u001b[0;31m         \u001b[0mself\u001b[0m\u001b[0;34m.\u001b[0m\u001b[0mgenerate_from_frequencies\u001b[0m\u001b[0;34m(\u001b[0m\u001b[0mwords\u001b[0m\u001b[0;34m)\u001b[0m\u001b[0;34m\u001b[0m\u001b[0;34m\u001b[0m\u001b[0m\n\u001b[0m\u001b[1;32m    588\u001b[0m         \u001b[0;32mreturn\u001b[0m \u001b[0mself\u001b[0m\u001b[0;34m\u001b[0m\u001b[0;34m\u001b[0m\u001b[0m\n\u001b[1;32m    589\u001b[0m \u001b[0;34m\u001b[0m\u001b[0m\n",
            "\u001b[0;32m/usr/local/lib/python3.6/dist-packages/wordcloud/wordcloud.py\u001b[0m in \u001b[0;36mgenerate_from_frequencies\u001b[0;34m(self, frequencies, max_font_size)\u001b[0m\n\u001b[1;32m    424\u001b[0m             \u001b[0;32melse\u001b[0m\u001b[0;34m:\u001b[0m\u001b[0;34m\u001b[0m\u001b[0;34m\u001b[0m\u001b[0m\n\u001b[1;32m    425\u001b[0m                 self.generate_from_frequencies(dict(frequencies[:2]),\n\u001b[0;32m--> 426\u001b[0;31m                                                max_font_size=self.height)\n\u001b[0m\u001b[1;32m    427\u001b[0m                 \u001b[0;31m# find font sizes\u001b[0m\u001b[0;34m\u001b[0m\u001b[0;34m\u001b[0m\u001b[0;34m\u001b[0m\u001b[0m\n\u001b[1;32m    428\u001b[0m                 \u001b[0msizes\u001b[0m \u001b[0;34m=\u001b[0m \u001b[0;34m[\u001b[0m\u001b[0mx\u001b[0m\u001b[0;34m[\u001b[0m\u001b[0;36m1\u001b[0m\u001b[0;34m]\u001b[0m \u001b[0;32mfor\u001b[0m \u001b[0mx\u001b[0m \u001b[0;32min\u001b[0m \u001b[0mself\u001b[0m\u001b[0;34m.\u001b[0m\u001b[0mlayout_\u001b[0m\u001b[0;34m]\u001b[0m\u001b[0;34m\u001b[0m\u001b[0;34m\u001b[0m\u001b[0m\n",
            "\u001b[0;32m/usr/local/lib/python3.6/dist-packages/wordcloud/wordcloud.py\u001b[0m in \u001b[0;36mgenerate_from_frequencies\u001b[0;34m(self, frequencies, max_font_size)\u001b[0m\n\u001b[1;32m    480\u001b[0m                 result = occupancy.sample_position(box_size[1] + self.margin,\n\u001b[1;32m    481\u001b[0m                                                    \u001b[0mbox_size\u001b[0m\u001b[0;34m[\u001b[0m\u001b[0;36m0\u001b[0m\u001b[0;34m]\u001b[0m \u001b[0;34m+\u001b[0m \u001b[0mself\u001b[0m\u001b[0;34m.\u001b[0m\u001b[0mmargin\u001b[0m\u001b[0;34m,\u001b[0m\u001b[0;34m\u001b[0m\u001b[0;34m\u001b[0m\u001b[0m\n\u001b[0;32m--> 482\u001b[0;31m                                                    random_state)\n\u001b[0m\u001b[1;32m    483\u001b[0m                 \u001b[0;32mif\u001b[0m \u001b[0mresult\u001b[0m \u001b[0;32mis\u001b[0m \u001b[0;32mnot\u001b[0m \u001b[0;32mNone\u001b[0m \u001b[0;32mor\u001b[0m \u001b[0mfont_size\u001b[0m \u001b[0;34m<\u001b[0m \u001b[0mself\u001b[0m\u001b[0;34m.\u001b[0m\u001b[0mmin_font_size\u001b[0m\u001b[0;34m:\u001b[0m\u001b[0;34m\u001b[0m\u001b[0;34m\u001b[0m\u001b[0m\n\u001b[1;32m    484\u001b[0m                     \u001b[0;31m# either we found a place or font-size went too small\u001b[0m\u001b[0;34m\u001b[0m\u001b[0;34m\u001b[0m\u001b[0;34m\u001b[0m\u001b[0m\n",
            "\u001b[0;32m/usr/local/lib/python3.6/dist-packages/wordcloud/wordcloud.py\u001b[0m in \u001b[0;36msample_position\u001b[0;34m(self, size_x, size_y, random_state)\u001b[0m\n\u001b[1;32m     44\u001b[0m     \u001b[0;32mdef\u001b[0m \u001b[0msample_position\u001b[0m\u001b[0;34m(\u001b[0m\u001b[0mself\u001b[0m\u001b[0;34m,\u001b[0m \u001b[0msize_x\u001b[0m\u001b[0;34m,\u001b[0m \u001b[0msize_y\u001b[0m\u001b[0;34m,\u001b[0m \u001b[0mrandom_state\u001b[0m\u001b[0;34m)\u001b[0m\u001b[0;34m:\u001b[0m\u001b[0;34m\u001b[0m\u001b[0;34m\u001b[0m\u001b[0m\n\u001b[1;32m     45\u001b[0m         return query_integral_image(self.integral, size_x, size_y,\n\u001b[0;32m---> 46\u001b[0;31m                                     random_state)\n\u001b[0m\u001b[1;32m     47\u001b[0m \u001b[0;34m\u001b[0m\u001b[0m\n\u001b[1;32m     48\u001b[0m     \u001b[0;32mdef\u001b[0m \u001b[0mupdate\u001b[0m\u001b[0;34m(\u001b[0m\u001b[0mself\u001b[0m\u001b[0;34m,\u001b[0m \u001b[0mimg_array\u001b[0m\u001b[0;34m,\u001b[0m \u001b[0mpos_x\u001b[0m\u001b[0;34m,\u001b[0m \u001b[0mpos_y\u001b[0m\u001b[0;34m)\u001b[0m\u001b[0;34m:\u001b[0m\u001b[0;34m\u001b[0m\u001b[0;34m\u001b[0m\u001b[0m\n",
            "\u001b[0;31mKeyboardInterrupt\u001b[0m: "
          ]
        }
      ]
    },
    {
      "cell_type": "markdown",
      "metadata": {
        "_uuid": "c4a99149b5995f5c52d7ac65d9dbae642397da0f",
        "id": "itH6x0cDEEFV",
        "colab_type": "text"
      },
      "source": [
        "**WordCloud of Acclaim Headlines after Lemmatisation**"
      ]
    },
    {
      "cell_type": "code",
      "metadata": {
        "_kg_hide-input": true,
        "_uuid": "2551a68d88e53573796eebdf39c7f49e5c390916",
        "id": "9NwcViHAEEFX",
        "colab_type": "code",
        "outputId": "3db387ee-eb30-4cec-e51d-b7ee16a3f69b",
        "colab": {
          "base_uri": "https://localhost:8080/",
          "height": 198
        }
      },
      "source": [
        "acc_list_wd = list(itertools.chain(*acc_wost_lem))\n",
        "acc_cloud = WordCloud(background_color='black', width=20000,height=10000).\\\n",
        "                generate(\" \".join(acc_list_wd))\n",
        "plt.imshow(acc_cloud)\n",
        "plt.axis('off')\n",
        "plt.show()"
      ],
      "execution_count": 19,
      "outputs": [
        {
          "output_type": "display_data",
          "data": {
            "image/png": "[encoded data removed]",
            "text/plain": [
              "<Figure size 432x288 with 1 Axes>"
            ]
          },
          "metadata": {
            "tags": []
          }
        }
      ]
    },
    {
      "cell_type": "code",
      "metadata": {
        "_kg_hide-input": true,
        "_uuid": "c7ee97dbe06d350c1af8924deb16d92f485c65a2",
        "id": "RdVKNUIAEEFf",
        "colab_type": "code",
        "outputId": "7330f0aa-d6d2-4027-bfd4-3b2e1347aa32",
        "colab": {
          "base_uri": "https://localhost:8080/",
          "height": 1000
        }
      },
      "source": [
        "sar_wost_lem_df = pd.DataFrame({'sarcasm':sar_wost_lem})\n",
        "acc_wost_lem_df = pd.DataFrame({'acclaim':acc_wost_lem})\n",
        "\n",
        "## custom function for ngram generation ##\n",
        "def generate_ngrams(text, n_gram=1):\n",
        "    ngrams = zip(*[text[i:] for i in range(n_gram)])\n",
        "    return [\" \".join(ngram) for ngram in ngrams]\n",
        "\n",
        "## custom function for horizontal bar chart ##\n",
        "def horizontal_bar_chart(df, color):\n",
        "    trace = go.Bar(\n",
        "        y=df[\"word\"].values[::-1],\n",
        "        x=df[\"wordcount\"].values[::-1],\n",
        "        showlegend=False,\n",
        "        orientation = 'h',\n",
        "        marker=dict(\n",
        "            color=color,\n",
        "        ),\n",
        "    )\n",
        "    return trace\n",
        "\n",
        "#Plotting the Bigram plot\n",
        "from collections import defaultdict\n",
        "freq_dict = defaultdict(int)\n",
        "for sent in sar_wost_lem_df[\"sarcasm\"]:\n",
        "    for word in generate_ngrams(sent,2):\n",
        "        freq_dict[word] += 1\n",
        "fd_sorted = pd.DataFrame(sorted(freq_dict.items(), key=lambda x: x[1])[::-1])\n",
        "fd_sorted.columns = [\"word\", \"wordcount\"]\n",
        "sar_2 = horizontal_bar_chart(fd_sorted.head(50), '#9B59B6')\n",
        "\n",
        "\n",
        "freq_dict = defaultdict(int)\n",
        "for sent in acc_wost_lem_df[\"acclaim\"]:\n",
        "    for word in generate_ngrams(sent,2):\n",
        "        freq_dict[word] += 1\n",
        "fd_sorted = pd.DataFrame(sorted(freq_dict.items(), key=lambda x: x[1])[::-1])\n",
        "fd_sorted.columns = [\"word\", \"wordcount\"]\n",
        "acc_2 = horizontal_bar_chart(fd_sorted.head(50), '#58D68D')\n",
        "\n",
        "# Creating two subplots\n",
        "fig = tools.make_subplots(rows=1, cols=2, vertical_spacing=0.04,horizontal_spacing=0.15,\n",
        "                          subplot_titles=[\"Frequent bigrams of Sarcasm Headlines\", \n",
        "                                          \"Frequent bigrams of Acclaim Headlines\"])\n",
        "fig.append_trace(sar_2, 1, 1)\n",
        "fig.append_trace(acc_2, 1, 2)\n",
        "fig['layout'].update(height=1200, width=900, paper_bgcolor='rgb(233,233,233)', title=\"Bigram Plots Sarcasm Vs Acclaim after removing Stopwords\")\n",
        "iplot(fig, filename='word-plots')"
      ],
      "execution_count": 20,
      "outputs": [
        {
          "output_type": "stream",
          "text": [
            "This is the format of your plot grid:\n",
            "[ (1,1) x1,y1 ]  [ (1,2) x2,y2 ]\n",
            "\n"
          ],
          "name": "stdout"
        },
        {
          "output_type": "display_data",
          "data": {
            "text/html": [
              "<div>\n",
              "        \n",
              "        \n",
              "            <div id=\"9a1b1045-2912-41d7-85f5-f806c40d67c1\" class=\"plotly-graph-div\" style=\"height:1200px; width:900px;\"></div>\n",
              "            <script type=\"text/javascript\">\n",
              "                require([\"plotly\"], function(Plotly) {\n",
              "                    window.PLOTLYENV=window.PLOTLYENV || {};\n",
              "                    window.PLOTLYENV.BASE_URL='https://plot.ly';\n",
              "                    \n",
              "                if (document.getElementById(\"9a1b1045-2912-41d7-85f5-f806c40d67c1\")) {\n",
              "                    Plotly.newPlot(\n",
              "                        '9a1b1045-2912-41d7-85f5-f806c40d67c1',\n",
              "                        [{\"marker\": {\"color\": \"#9B59B6\"}, \"orientation\": \"h\", \"showlegend\": false, \"type\": \"bar\", \"uid\": \"c0dda1dd-e745-4e2f-92eb-acbe66988f93\", \"x\": [13, 13, 13, 13, 13, 13, 13, 14, 14, 14, 14, 14, 14, 15, 15, 15, 16, 16, 16, 16, 17, 17, 17, 18, 18, 19, 20, 20, 21, 22, 22, 23, 23, 24, 28, 30, 31, 31, 32, 32, 33, 36, 36, 37, 40, 42, 60, 91, 103, 223], \"xaxis\": \"x\", \"y\": [\"taylor swift\", \"get back\", \"bernie sander\", \"michelle obama\", \"secret service\", \"climate change\", \"man get\", \"feel like\", \"parking lot\", \"tv show\", \"john kerry\", \"tim kaine\", \"john kelly\", \"ted cruz\", \"average american\", \"jeb bush\", \"new line\", \"north korea\", \"report: american\", \"report: majority\", \"first time\", \"mike penny\", \"majority american\", \"new york\", \"look like\", \"poll find\", \"can't wait\", \"state union\", \"one day\", \"video game\", \"area dad\", \"local man\", \"paul ryan\", \"report find\", \"can't believe\", \"announces plan\", \"hillary clinton\", \"release new\", \"area man's\", \"historical archives:\", \"pope francis\", \"unveils new\", \"high school\", \"supreme court\", \"new study\", \"area woman\", \"introduces new\", \"white house\", \"study find\", \"area man\"], \"yaxis\": \"y\"}, {\"marker\": {\"color\": \"#58D68D\"}, \"orientation\": \"h\", \"showlegend\": false, \"type\": \"bar\", \"uid\": \"3536fac5-e982-408a-bd6e-fb06678c34a4\", \"x\": [14985, 14985, 14985, 14985, 14985, 14985], \"xaxis\": \"x2\", \"y\": [\"pope francis\", \"francis wearing\", \"wearing sweater\", \"sweater vestment\", \"vestment got\", \"got christmas\"], \"yaxis\": \"y2\"}],\n",
              "                        {\"annotations\": [{\"font\": {\"size\": 16}, \"showarrow\": false, \"text\": \"Frequent bigrams of Sarcasm Headlines\", \"x\": 0.2125, \"xanchor\": \"center\", \"xref\": \"paper\", \"y\": 1.0, \"yanchor\": \"bottom\", \"yref\": \"paper\"}, {\"font\": {\"size\": 16}, \"showarrow\": false, \"text\": \"Frequent bigrams of Acclaim Headlines\", \"x\": 0.7875, \"xanchor\": \"center\", \"xref\": \"paper\", \"y\": 1.0, \"yanchor\": \"bottom\", \"yref\": \"paper\"}], \"height\": 1200, \"paper_bgcolor\": \"rgb(233,233,233)\", \"title\": {\"text\": \"Bigram Plots Sarcasm Vs Acclaim after removing Stopwords\"}, \"width\": 900, \"xaxis\": {\"anchor\": \"y\", \"domain\": [0.0, 0.425]}, \"xaxis2\": {\"anchor\": \"y2\", \"domain\": [0.575, 1.0]}, \"yaxis\": {\"anchor\": \"x\", \"domain\": [0.0, 1.0]}, \"yaxis2\": {\"anchor\": \"x2\", \"domain\": [0.0, 1.0]}},\n",
              "                        {\"showLink\": false, \"linkText\": \"Export to plot.ly\", \"plotlyServerURL\": \"https://plot.ly\", \"responsive\": true}\n",
              "                    ).then(function(){\n",
              "                            \n",
              "var gd = document.getElementById('9a1b1045-2912-41d7-85f5-f806c40d67c1');\n",
              "var x = new MutationObserver(function (mutations, observer) {{\n",
              "        var display = window.getComputedStyle(gd).display;\n",
              "        if (!display || display === 'none') {{\n",
              "            console.log([gd, 'removed!']);\n",
              "            Plotly.purge(gd);\n",
              "            observer.disconnect();\n",
              "        }}\n",
              "}});\n",
              "\n",
              "// Listen for the removal of the full notebook cells\n",
              "var notebookContainer = gd.closest('#notebook-container');\n",
              "if (notebookContainer) {{\n",
              "    x.observe(notebookContainer, {childList: true});\n",
              "}}\n",
              "\n",
              "// Listen for the clearing of the current output cell\n",
              "var outputEl = gd.closest('.output');\n",
              "if (outputEl) {{\n",
              "    x.observe(outputEl, {childList: true});\n",
              "}}\n",
              "\n",
              "                        })\n",
              "                };\n",
              "                });\n",
              "            </script>\n",
              "        </div>"
            ],
            "application/vnd.plotly.v1+json": {
              "data": [
                {
                  "showlegend": false,
                  "orientation": "h",
                  "yaxis": "y",
                  "y": [
                    "taylor swift",
                    "get back",
                    "bernie sander",
                    "michelle obama",
                    "secret service",
                    "climate change",
                    "man get",
                    "feel like",
                    "parking lot",
                    "tv show",
                    "john kerry",
                    "tim kaine",
                    "john kelly",
                    "ted cruz",
                    "average american",
                    "jeb bush",
                    "new line",
                    "north korea",
                    "report: american",
                    "report: majority",
                    "first time",
                    "mike penny",
                    "majority american",
                    "new york",
                    "look like",
                    "poll find",
                    "can't wait",
                    "state union",
                    "one day",
                    "video game",
                    "area dad",
                    "local man",
                    "paul ryan",
                    "report find",
                    "can't believe",
                    "announces plan",
                    "hillary clinton",
                    "release new",
                    "area man's",
                    "historical archives:",
                    "pope francis",
                    "unveils new",
                    "high school",
                    "supreme court",
                    "new study",
                    "area woman",
                    "introduces new",
                    "white house",
                    "study find",
                    "area man"
                  ],
                  "xaxis": "x",
                  "marker": {
                    "color": "#9B59B6"
                  },
                  "x": [
                    13,
                    13,
                    13,
                    13,
                    13,
                    13,
                    13,
                    14,
                    14,
                    14,
                    14,
                    14,
                    14,
                    15,
                    15,
                    15,
                    16,
                    16,
                    16,
                    16,
                    17,
                    17,
                    17,
                    18,
                    18,
                    19,
                    20,
                    20,
                    21,
                    22,
                    22,
                    23,
                    23,
                    24,
                    28,
                    30,
                    31,
                    31,
                    32,
                    32,
                    33,
                    36,
                    36,
                    37,
                    40,
                    42,
                    60,
                    91,
                    103,
                    223
                  ],
                  "type": "bar",
                  "uid": "c0dda1dd-e745-4e2f-92eb-acbe66988f93"
                },
                {
                  "showlegend": false,
                  "orientation": "h",
                  "yaxis": "y2",
                  "y": [
                    "pope francis",
                    "francis wearing",
                    "wearing sweater",
                    "sweater vestment",
                    "vestment got",
                    "got christmas"
                  ],
                  "xaxis": "x2",
                  "marker": {
                    "color": "#58D68D"
                  },
                  "x": [
                    14985,
                    14985,
                    14985,
                    14985,
                    14985,
                    14985
                  ],
                  "type": "bar",
                  "uid": "3536fac5-e982-408a-bd6e-fb06678c34a4"
                }
              ],
              "config": {
                "plotlyServerURL": "https://plot.ly",
                "linkText": "Export to plot.ly",
                "showLink": false
              },
              "layout": {
                "title": {
                  "text": "Bigram Plots Sarcasm Vs Acclaim after removing Stopwords"
                },
                "paper_bgcolor": "rgb(233,233,233)",
                "yaxis": {
                  "domain": [
                    0,
                    1
                  ],
                  "anchor": "x"
                },
                "xaxis2": {
                  "domain": [
                    0.575,
                    1
                  ],
                  "anchor": "y2"
                },
                "height": 1200,
                "width": 900,
                "yaxis2": {
                  "domain": [
                    0,
                    1
                  ],
                  "anchor": "x2"
                },
                "xaxis": {
                  "domain": [
                    0,
                    0.425
                  ],
                  "anchor": "y"
                },
                "annotations": [
                  {
                    "yanchor": "bottom",
                    "xref": "paper",
                    "xanchor": "center",
                    "yref": "paper",
                    "text": "Frequent bigrams of Sarcasm Headlines",
                    "y": 1,
                    "x": 0.2125,
                    "font": {
                      "size": 16
                    },
                    "showarrow": false
                  },
                  {
                    "yanchor": "bottom",
                    "xref": "paper",
                    "xanchor": "center",
                    "yref": "paper",
                    "text": "Frequent bigrams of Acclaim Headlines",
                    "y": 1,
                    "x": 0.7875,
                    "font": {
                      "size": 16
                    },
                    "showarrow": false
                  }
                ]
              }
            }
          },
          "metadata": {
            "tags": []
          }
        }
      ]
    },
    {
      "cell_type": "code",
      "metadata": {
        "_kg_hide-input": true,
        "_uuid": "ab458cb8377c50b0971cba2d0adadd942ed8afc4",
        "id": "bL1Ug0GYEEFp",
        "colab_type": "code",
        "outputId": "04f0287c-35c8-4f89-f955-6fc02635ec49",
        "colab": {
          "base_uri": "https://localhost:8080/",
          "height": 1000
        }
      },
      "source": [
        "#Plotting the Trigram plot\n",
        "from collections import defaultdict\n",
        "freq_dict = defaultdict(int)\n",
        "for sent in sar_wost_lem_df[\"sarcasm\"]:\n",
        "    for word in generate_ngrams(sent,3):\n",
        "        freq_dict[word] += 1\n",
        "fd_sorted = pd.DataFrame(sorted(freq_dict.items(), key=lambda x: x[1])[::-1])\n",
        "fd_sorted.columns = [\"word\", \"wordcount\"]\n",
        "sar_2 = horizontal_bar_chart(fd_sorted.head(50), '#9B59B6')\n",
        "\n",
        "\n",
        "freq_dict = defaultdict(int)\n",
        "for sent in acc_wost_lem_df[\"acclaim\"]:\n",
        "    for word in generate_ngrams(sent,3):\n",
        "        freq_dict[word] += 1\n",
        "fd_sorted = pd.DataFrame(sorted(freq_dict.items(), key=lambda x: x[1])[::-1])\n",
        "fd_sorted.columns = [\"word\", \"wordcount\"]\n",
        "acc_2 = horizontal_bar_chart(fd_sorted.head(50), '#58D68D')\n",
        "\n",
        "# Creating two subplots\n",
        "fig = tools.make_subplots(rows=1, cols=2, vertical_spacing=0.04,horizontal_spacing=0.15,\n",
        "                          subplot_titles=[\"Frequent Trigrams of Sarcasm Headlines\", \n",
        "                                          \"Frequent Trigrams of Acclaim Headlines\"])\n",
        "fig.append_trace(sar_2, 1, 1)\n",
        "fig.append_trace(acc_2, 1, 2)\n",
        "fig['layout'].update(height=1200, width=900, paper_bgcolor='rgb(233,233,233)', title=\"Trigram Plots Sarcasm Vs Acclaim after removing Stopwords\")\n",
        "iplot(fig, filename='word-plots')"
      ],
      "execution_count": 21,
      "outputs": [
        {
          "output_type": "stream",
          "text": [
            "This is the format of your plot grid:\n",
            "[ (1,1) x1,y1 ]  [ (1,2) x2,y2 ]\n",
            "\n"
          ],
          "name": "stdout"
        },
        {
          "output_type": "display_data",
          "data": {
            "text/html": [
              "<div>\n",
              "        \n",
              "        \n",
              "            <div id=\"5297355b-53a6-488d-99b1-586bacedc700\" class=\"plotly-graph-div\" style=\"height:1200px; width:900px;\"></div>\n",
              "            <script type=\"text/javascript\">\n",
              "                require([\"plotly\"], function(Plotly) {\n",
              "                    window.PLOTLYENV=window.PLOTLYENV || {};\n",
              "                    window.PLOTLYENV.BASE_URL='https://plot.ly';\n",
              "                    \n",
              "                if (document.getElementById(\"5297355b-53a6-488d-99b1-586bacedc700\")) {\n",
              "                    Plotly.newPlot(\n",
              "                        '5297355b-53a6-488d-99b1-586bacedc700',\n",
              "                        [{\"marker\": {\"color\": \"#9B59B6\"}, \"orientation\": \"h\", \"showlegend\": false, \"type\": \"bar\", \"uid\": \"88ebc066-05aa-43d7-935a-820dfb2d4d2a\", \"x\": [3, 3, 3, 3, 3, 4, 4, 4, 4, 4, 4, 4, 4, 4, 4, 4, 4, 4, 4, 4, 4, 4, 4, 5, 5, 5, 5, 5, 5, 5, 5, 5, 5, 6, 6, 6, 6, 6, 7, 7, 7, 8, 8, 8, 8, 8, 8, 8, 8, 33], \"xaxis\": \"x\", \"y\": [\"first day school\", \"climate change study\", \"george r.r. martin\", \"british royal family\", \"study find average\", \"new york time\", \"taylor swift dating\", \"area man could\", \"area man think\", \"come crawling back\", \"fda approves new\", \"historical archives: sold\", \"archives: sold -\", \"area man idea\", \"donald trump jr.\", \"barnes & noble\", \"world war ii\", \"around white house\", \"ready go case\", \"find average american\", \"state union address\", \"area man pretty\", \"study find earth's\", \"'new york times'\", \"guy one show\", \"can't wait get\", \"high school student\", \"unveils new line\", \"new poll find\", \"supreme court justice\", \"new video game\", \"report: majority american\", \"world wildlife fund\", \"dream one day\", \"introduces new line\", \"study find majority\", \"study find american\", \"study find human\", \"new evidence suggests\", \"death row inmate\", \"report: average american\", \"new report find\", \"'no way prevent\", \"way prevent this,'\", \"prevent this,' say\", \"this,' say nation\", \"say nation regularly\", \"nation regularly happens\", \"secret service agent\", \"new study find\"], \"yaxis\": \"y\"}, {\"marker\": {\"color\": \"#58D68D\"}, \"orientation\": \"h\", \"showlegend\": false, \"type\": \"bar\", \"uid\": \"e8f2643b-5d17-4981-9bd8-5ae9f41330c1\", \"x\": [14985, 14985, 14985, 14985, 14985], \"xaxis\": \"x2\", \"y\": [\"pope francis wearing\", \"francis wearing sweater\", \"wearing sweater vestment\", \"sweater vestment got\", \"vestment got christmas\"], \"yaxis\": \"y2\"}],\n",
              "                        {\"annotations\": [{\"font\": {\"size\": 16}, \"showarrow\": false, \"text\": \"Frequent Trigrams of Sarcasm Headlines\", \"x\": 0.2125, \"xanchor\": \"center\", \"xref\": \"paper\", \"y\": 1.0, \"yanchor\": \"bottom\", \"yref\": \"paper\"}, {\"font\": {\"size\": 16}, \"showarrow\": false, \"text\": \"Frequent Trigrams of Acclaim Headlines\", \"x\": 0.7875, \"xanchor\": \"center\", \"xref\": \"paper\", \"y\": 1.0, \"yanchor\": \"bottom\", \"yref\": \"paper\"}], \"height\": 1200, \"paper_bgcolor\": \"rgb(233,233,233)\", \"title\": {\"text\": \"Trigram Plots Sarcasm Vs Acclaim after removing Stopwords\"}, \"width\": 900, \"xaxis\": {\"anchor\": \"y\", \"domain\": [0.0, 0.425]}, \"xaxis2\": {\"anchor\": \"y2\", \"domain\": [0.575, 1.0]}, \"yaxis\": {\"anchor\": \"x\", \"domain\": [0.0, 1.0]}, \"yaxis2\": {\"anchor\": \"x2\", \"domain\": [0.0, 1.0]}},\n",
              "                        {\"showLink\": false, \"linkText\": \"Export to plot.ly\", \"plotlyServerURL\": \"https://plot.ly\", \"responsive\": true}\n",
              "                    ).then(function(){\n",
              "                            \n",
              "var gd = document.getElementById('5297355b-53a6-488d-99b1-586bacedc700');\n",
              "var x = new MutationObserver(function (mutations, observer) {{\n",
              "        var display = window.getComputedStyle(gd).display;\n",
              "        if (!display || display === 'none') {{\n",
              "            console.log([gd, 'removed!']);\n",
              "            Plotly.purge(gd);\n",
              "            observer.disconnect();\n",
              "        }}\n",
              "}});\n",
              "\n",
              "// Listen for the removal of the full notebook cells\n",
              "var notebookContainer = gd.closest('#notebook-container');\n",
              "if (notebookContainer) {{\n",
              "    x.observe(notebookContainer, {childList: true});\n",
              "}}\n",
              "\n",
              "// Listen for the clearing of the current output cell\n",
              "var outputEl = gd.closest('.output');\n",
              "if (outputEl) {{\n",
              "    x.observe(outputEl, {childList: true});\n",
              "}}\n",
              "\n",
              "                        })\n",
              "                };\n",
              "                });\n",
              "            </script>\n",
              "        </div>"
            ],
            "application/vnd.plotly.v1+json": {
              "data": [
                {
                  "showlegend": false,
                  "orientation": "h",
                  "yaxis": "y",
                  "y": [
                    "first day school",
                    "climate change study",
                    "george r.r. martin",
                    "british royal family",
                    "study find average",
                    "new york time",
                    "taylor swift dating",
                    "area man could",
                    "area man think",
                    "come crawling back",
                    "fda approves new",
                    "historical archives: sold",
                    "archives: sold -",
                    "area man idea",
                    "donald trump jr.",
                    "barnes & noble",
                    "world war ii",
                    "around white house",
                    "ready go case",
                    "find average american",
                    "state union address",
                    "area man pretty",
                    "study find earth's",
                    "'new york times'",
                    "guy one show",
                    "can't wait get",
                    "high school student",
                    "unveils new line",
                    "new poll find",
                    "supreme court justice",
                    "new video game",
                    "report: majority american",
                    "world wildlife fund",
                    "dream one day",
                    "introduces new line",
                    "study find majority",
                    "study find american",
                    "study find human",
                    "new evidence suggests",
                    "death row inmate",
                    "report: average american",
                    "new report find",
                    "'no way prevent",
                    "way prevent this,'",
                    "prevent this,' say",
                    "this,' say nation",
                    "say nation regularly",
                    "nation regularly happens",
                    "secret service agent",
                    "new study find"
                  ],
                  "xaxis": "x",
                  "marker": {
                    "color": "#9B59B6"
                  },
                  "x": [
                    3,
                    3,
                    3,
                    3,
                    3,
                    4,
                    4,
                    4,
                    4,
                    4,
                    4,
                    4,
                    4,
                    4,
                    4,
                    4,
                    4,
                    4,
                    4,
                    4,
                    4,
                    4,
                    4,
                    5,
                    5,
                    5,
                    5,
                    5,
                    5,
                    5,
                    5,
                    5,
                    5,
                    6,
                    6,
                    6,
                    6,
                    6,
                    7,
                    7,
                    7,
                    8,
                    8,
                    8,
                    8,
                    8,
                    8,
                    8,
                    8,
                    33
                  ],
                  "type": "bar",
                  "uid": "88ebc066-05aa-43d7-935a-820dfb2d4d2a"
                },
                {
                  "showlegend": false,
                  "orientation": "h",
                  "yaxis": "y2",
                  "y": [
                    "pope francis wearing",
                    "francis wearing sweater",
                    "wearing sweater vestment",
                    "sweater vestment got",
                    "vestment got christmas"
                  ],
                  "xaxis": "x2",
                  "marker": {
                    "color": "#58D68D"
                  },
                  "x": [
                    14985,
                    14985,
                    14985,
                    14985,
                    14985
                  ],
                  "type": "bar",
                  "uid": "e8f2643b-5d17-4981-9bd8-5ae9f41330c1"
                }
              ],
              "config": {
                "plotlyServerURL": "https://plot.ly",
                "linkText": "Export to plot.ly",
                "showLink": false
              },
              "layout": {
                "title": {
                  "text": "Trigram Plots Sarcasm Vs Acclaim after removing Stopwords"
                },
                "paper_bgcolor": "rgb(233,233,233)",
                "yaxis": {
                  "domain": [
                    0,
                    1
                  ],
                  "anchor": "x"
                },
                "xaxis2": {
                  "domain": [
                    0.575,
                    1
                  ],
                  "anchor": "y2"
                },
                "height": 1200,
                "width": 900,
                "yaxis2": {
                  "domain": [
                    0,
                    1
                  ],
                  "anchor": "x2"
                },
                "xaxis": {
                  "domain": [
                    0,
                    0.425
                  ],
                  "anchor": "y"
                },
                "annotations": [
                  {
                    "yanchor": "bottom",
                    "xref": "paper",
                    "xanchor": "center",
                    "yref": "paper",
                    "text": "Frequent Trigrams of Sarcasm Headlines",
                    "y": 1,
                    "x": 0.2125,
                    "font": {
                      "size": 16
                    },
                    "showarrow": false
                  },
                  {
                    "yanchor": "bottom",
                    "xref": "paper",
                    "xanchor": "center",
                    "yref": "paper",
                    "text": "Frequent Trigrams of Acclaim Headlines",
                    "y": 1,
                    "x": 0.7875,
                    "font": {
                      "size": 16
                    },
                    "showarrow": false
                  }
                ]
              }
            }
          },
          "metadata": {
            "tags": []
          }
        }
      ]
    },
    {
      "cell_type": "markdown",
      "metadata": {
        "_uuid": "bf954f300fafd6be9a424dde6b8efd3c78ddc6ad",
        "id": "_4mOD4gEEEFw",
        "colab_type": "text"
      },
      "source": [
        "**Meta Features**  \n",
        "\n",
        "Thanks to Sudalairajkumar for the awesome kernel which taught me about the meta features.\n",
        "\n",
        "Link for the kernel:\n",
        "https://www.kaggle.com/sudalairajkumar/simple-exploration-notebook-qiqc"
      ]
    },
    {
      "cell_type": "code",
      "metadata": {
        "_kg_hide-input": true,
        "_uuid": "832fc8322f8d3580278c536153aa209d3bd7e003",
        "id": "qbZ-PTcZEEFy",
        "colab_type": "code",
        "colab": {}
      },
      "source": [
        "from wordcloud import STOPWORDS\n",
        "import string\n",
        "## Number of words in the text ##\n",
        "sar_acc[\"num_words\"] = sar_acc[\"headline\"].apply(lambda x: len(str(x).split()))\n",
        "\n",
        "## Number of unique words in the text ##\n",
        "sar_acc[\"num_unique_words\"] = sar_acc[\"headline\"].apply(lambda x: len(set(str(x).split())))\n",
        "\n",
        "## Number of characters in the text ##\n",
        "sar_acc[\"num_chars\"] = sar_acc[\"headline\"].apply(lambda x: len(str(x)))\n",
        "\n",
        "## Number of stopwords in the text ##\n",
        "sar_acc[\"num_stopwords\"] = sar_acc[\"headline\"].apply(lambda x: len([w for w in str(x).lower().split() if w in STOPWORDS]))\n",
        "\n",
        "## Number of punctuations in the text ##\n",
        "sar_acc[\"num_punctuations\"] =sar_acc['headline'].apply(lambda x: len([c for c in str(x) if c in string.punctuation]) )\n",
        "\n",
        "## Number of title case words in the text ##\n",
        "sar_acc[\"num_words_upper\"] = sar_acc[\"headline\"].apply(lambda x: len([w for w in str(x).split() if w.isupper()]))\n",
        "\n",
        "## Number of title case words in the text ##\n",
        "sar_acc[\"num_words_title\"] = sar_acc[\"headline\"].apply(lambda x: len([w for w in str(x).split() if w.istitle()]))\n",
        "\n",
        "## Average length of the words in the text ##\n",
        "sar_acc[\"mean_word_len\"] = sar_acc[\"headline\"].apply(lambda x: np.mean([len(w) for w in str(x).split()]))"
      ],
      "execution_count": 0,
      "outputs": []
    },
    {
      "cell_type": "markdown",
      "metadata": {
        "_uuid": "ae860d735835802b031b0031be5c522cdd2f7bb2",
        "id": "UELw3NGsEEF5",
        "colab_type": "text"
      },
      "source": [
        "Now let us see how these meta features are distributed between both Sarcasm and Acclaim headlines."
      ]
    },
    {
      "cell_type": "code",
      "metadata": {
        "_kg_hide-input": true,
        "_uuid": "c3b9c119ab07eab69ecd45661aefeba96c438e41",
        "id": "3hYFtmlSEEF9",
        "colab_type": "code",
        "outputId": "eb921f5d-a7c8-4bea-ccd4-4974c993f6e7",
        "colab": {
          "base_uri": "https://localhost:8080/",
          "height": 1000
        }
      },
      "source": [
        "## Truncate some extreme values for better visuals ##\n",
        "import matplotlib.pyplot as plt\n",
        "import seaborn as sns\n",
        "color = sns.color_palette()\n",
        "\n",
        "sar_acc['num_words'].loc[sar_acc['num_words']>60] = 60 #truncation for better visuals\n",
        "sar_acc['num_punctuations'].loc[sar_acc['num_punctuations']>10] = 10 #truncation for better visuals\n",
        "sar_acc['num_chars'].loc[sar_acc['num_chars']>350] = 350 #truncation for better visuals\n",
        "\n",
        "sar_acc['num_words'].loc[sar_acc['num_words']>60] = 60 #truncation for better visuals\n",
        "sar_acc['num_punctuations'].loc[sar_acc['num_punctuations']>10] = 10 #truncation for better visuals\n",
        "sar_acc['num_chars'].loc[sar_acc['num_chars']>350] = 350 #truncation for better visuals\n",
        "\n",
        "f, axes = plt.subplots(3, 1, figsize=(10,20))\n",
        "sns.boxplot(x='is_sarcastic', y='num_words', data=sar_acc, ax=axes[0])\n",
        "axes[0].set_xlabel('is_sarcastic', fontsize=12)\n",
        "axes[0].set_title(\"Number of words in each class\", fontsize=15)\n",
        "\n",
        "sns.boxplot(x='is_sarcastic', y='num_chars', data=sar_acc, ax=axes[1])\n",
        "axes[1].set_xlabel('is_sarcastic', fontsize=12)\n",
        "axes[1].set_title(\"Number of characters in each class\", fontsize=15)\n",
        "\n",
        "sns.boxplot(x='is_sarcastic', y='num_punctuations', data=sar_acc, ax=axes[2])\n",
        "axes[2].set_xlabel('is_sarcastic', fontsize=12)\n",
        "#plt.ylabel('Number of punctuations in text', fontsize=12)\n",
        "axes[2].set_title(\"Number of punctuations in each class\", fontsize=15)\n",
        "plt.show()\n"
      ],
      "execution_count": 23,
      "outputs": [
        {
          "output_type": "stream",
          "text": [
            "/usr/local/lib/python3.6/dist-packages/pandas/core/indexing.py:205: SettingWithCopyWarning:\n",
            "\n",
            "\n",
            "A value is trying to be set on a copy of a slice from a DataFrame\n",
            "\n",
            "See the caveats in the documentation: http://pandas.pydata.org/pandas-docs/stable/user_guide/indexing.html#returning-a-view-versus-a-copy\n",
            "\n"
          ],
          "name": "stderr"
        },
        {
          "output_type": "display_data",
          "data": {
            "image/png": "[encoded data removed]",
            "text/plain": [
              "<Figure size 720x1440 with 3 Axes>"
            ]
          },
          "metadata": {
            "tags": []
          }
        }
      ]
    },
    {
      "cell_type": "markdown",
      "metadata": {
        "_uuid": "8096e203e9b5db1a7d43f96796ce31f0d880809a",
        "id": "2fI-OzyHEEGD",
        "colab_type": "text"
      },
      "source": [
        "**Time to Play with Keras**  \n",
        "**1. Data preparation for Model building**  \n",
        "For any model, first the data needs to be prepared in a suitable format. Here, for our keras model we need to create the input and output vectors and then preprocess the lables."
      ]
    },
    {
      "cell_type": "code",
      "metadata": {
        "_kg_hide-input": true,
        "_uuid": "af5cba7734f95ad5f07234a665ba066f91cb83f2",
        "id": "PA5SG-NPEEGF",
        "colab_type": "code",
        "colab": {}
      },
      "source": [
        "#Getting X and Y ready\n",
        "from sklearn.preprocessing import LabelEncoder\n",
        "X = sar_acc.headline\n",
        "Y = sar_acc.is_sarcastic\n",
        "le = LabelEncoder()\n",
        "Y = le.fit_transform(Y)\n",
        "Y = Y.reshape(-1,1)"
      ],
      "execution_count": 0,
      "outputs": []
    },
    {
      "cell_type": "markdown",
      "metadata": {
        "_uuid": "812895a70b06bc0dd291910633c771ee5856edc7",
        "id": "PJhlcjJSEEGM",
        "colab_type": "text"
      },
      "source": [
        "**2. Split into Training and Test data**"
      ]
    },
    {
      "cell_type": "code",
      "metadata": {
        "_kg_hide-input": true,
        "_uuid": "c1d6c6425470b80ebf04e56948bf61a083a06f2d",
        "id": "b_0aDeWJEEGO",
        "colab_type": "code",
        "colab": {}
      },
      "source": [
        "from sklearn.model_selection import train_test_split\n",
        "X_train,X_test,Y_train,Y_test = train_test_split(X,Y,test_size=0.2)"
      ],
      "execution_count": 0,
      "outputs": []
    },
    {
      "cell_type": "markdown",
      "metadata": {
        "_uuid": "d0d4abc2f901ab395e1a048fb009cbd94222e0bc",
        "id": "I6J5NWPXEEGT",
        "colab_type": "text"
      },
      "source": [
        "**3. Processing the data for the model**  \n",
        "* Tokenize the data and convert the text to sequences.\n",
        "* Add padding to ensure that all the sequences have the same shape.\n",
        "* There are many ways of taking the max_len and here an arbitrary length of 150 is chosen"
      ]
    },
    {
      "cell_type": "code",
      "metadata": {
        "_kg_hide-input": true,
        "_uuid": "4110a30f554f0760dbf25995dee51e651ef3f6c5",
        "id": "-40F0MdjEEGV",
        "colab_type": "code",
        "outputId": "edb8e254-16e7-43c6-b445-4e89a911f161",
        "colab": {
          "base_uri": "https://localhost:8080/",
          "height": 79
        }
      },
      "source": [
        "from keras.preprocessing.text import Tokenizer\n",
        "from keras.preprocessing import sequence\n",
        "max_words = 1000\n",
        "max_len = 150\n",
        "tok = Tokenizer(num_words=max_words)\n",
        "tok.fit_on_texts(X_train)\n",
        "sequences = tok.texts_to_sequences(X_train)\n",
        "sequences_matrix = sequence.pad_sequences(sequences,maxlen=max_len)"
      ],
      "execution_count": 26,
      "outputs": [
        {
          "output_type": "stream",
          "text": [
            "Using TensorFlow backend.\n"
          ],
          "name": "stderr"
        },
        {
          "output_type": "display_data",
          "data": {
            "text/html": [
              "<p style=\"color: red;\">\n",
              "The default version of TensorFlow in Colab will soon switch to TensorFlow 2.x.<br>\n",
              "We recommend you <a href=\"https://www.tensorflow.org/guide/migrate\" target=\"_blank\">upgrade</a> now \n",
              "or ensure your notebook will continue to use TensorFlow 1.x via the <code>%tensorflow_version 1.x</code> magic:\n",
              "<a href=\"https://colab.research.google.com/notebooks/tensorflow_version.ipynb\" target=\"_blank\">more info</a>.</p>\n"
            ],
            "text/plain": [
              "<IPython.core.display.HTML object>"
            ]
          },
          "metadata": {
            "tags": []
          }
        }
      ]
    },
    {
      "cell_type": "markdown",
      "metadata": {
        "_uuid": "bde0fa7c7c41b14c76786e125deab877bd70ce62",
        "id": "zft4jDIiEEGc",
        "colab_type": "text"
      },
      "source": [
        "**4. Defining the RNN structure for the model**"
      ]
    },
    {
      "cell_type": "code",
      "metadata": {
        "_kg_hide-input": true,
        "_uuid": "edf9b5eff8451b16774824b665f746df20b07a1b",
        "id": "O0Zwb5DpEEGf",
        "colab_type": "code",
        "colab": {}
      },
      "source": [
        "from keras.layers import LSTM, Activation, Dense, Dropout, Input, Embedding\n",
        "from keras.optimizers import RMSprop\n",
        "from keras.models import Model\n",
        "def RNN():\n",
        "    inputs = Input(name='inputs',shape=[max_len])\n",
        "    layer = Embedding(max_words,50,input_length=max_len)(inputs)\n",
        "    layer = LSTM(64)(layer)\n",
        "    layer = Dense(512,name='FC1')(layer)\n",
        "    layer = Activation('relu')(layer)\n",
        "    layer = Dropout(0.2)(layer)\n",
        "    layer = Dense(1,name='out_layer')(layer)\n",
        "    layer = Activation('sigmoid')(layer)\n",
        "    model = Model(inputs=inputs,outputs=layer)\n",
        "    return model"
      ],
      "execution_count": 0,
      "outputs": []
    },
    {
      "cell_type": "markdown",
      "metadata": {
        "_uuid": "9adac9947306dae00b6aff8ad332f777d76b2bca",
        "id": "jl9_2JdSEEGl",
        "colab_type": "text"
      },
      "source": [
        "**5. Compiling the model**"
      ]
    },
    {
      "cell_type": "code",
      "metadata": {
        "_kg_hide-input": true,
        "_uuid": "6715c9c7d51e23b0a6159813c7f742cb31fd9754",
        "id": "Q_KDhc5ZEEGo",
        "colab_type": "code",
        "outputId": "75c8133e-5ca3-43fb-9636-739e9aee2b85",
        "colab": {
          "base_uri": "https://localhost:8080/",
          "height": 739
        }
      },
      "source": [
        "model = RNN()\n",
        "model.summary()\n",
        "model.compile(loss='binary_crossentropy',optimizer=RMSprop(),metrics=['accuracy'])"
      ],
      "execution_count": 28,
      "outputs": [
        {
          "output_type": "stream",
          "text": [
            "WARNING:tensorflow:From /usr/local/lib/python3.6/dist-packages/keras/backend/tensorflow_backend.py:541: The name tf.placeholder is deprecated. Please use tf.compat.v1.placeholder instead.\n",
            "\n",
            "WARNING:tensorflow:From /usr/local/lib/python3.6/dist-packages/keras/backend/tensorflow_backend.py:66: The name tf.get_default_graph is deprecated. Please use tf.compat.v1.get_default_graph instead.\n",
            "\n",
            "WARNING:tensorflow:From /usr/local/lib/python3.6/dist-packages/keras/backend/tensorflow_backend.py:4432: The name tf.random_uniform is deprecated. Please use tf.random.uniform instead.\n",
            "\n",
            "WARNING:tensorflow:From /usr/local/lib/python3.6/dist-packages/keras/backend/tensorflow_backend.py:148: The name tf.placeholder_with_default is deprecated. Please use tf.compat.v1.placeholder_with_default instead.\n",
            "\n",
            "WARNING:tensorflow:From /usr/local/lib/python3.6/dist-packages/keras/backend/tensorflow_backend.py:3733: calling dropout (from tensorflow.python.ops.nn_ops) with keep_prob is deprecated and will be removed in a future version.\n",
            "Instructions for updating:\n",
            "Please use `rate` instead of `keep_prob`. Rate should be set to `rate = 1 - keep_prob`.\n",
            "Model: \"model_1\"\n",
            "_________________________________________________________________\n",
            "Layer (type)                 Output Shape              Param #   \n",
            "=================================================================\n",
            "inputs (InputLayer)          (None, 150)               0         \n",
            "_________________________________________________________________\n",
            "embedding_1 (Embedding)      (None, 150, 50)           50000     \n",
            "_________________________________________________________________\n",
            "lstm_1 (LSTM)                (None, 64)                29440     \n",
            "_________________________________________________________________\n",
            "FC1 (Dense)                  (None, 512)               33280     \n",
            "_________________________________________________________________\n",
            "activation_1 (Activation)    (None, 512)               0         \n",
            "_________________________________________________________________\n",
            "dropout_1 (Dropout)          (None, 512)               0         \n",
            "_________________________________________________________________\n",
            "out_layer (Dense)            (None, 1)                 513       \n",
            "_________________________________________________________________\n",
            "activation_2 (Activation)    (None, 1)                 0         \n",
            "=================================================================\n",
            "Total params: 113,233\n",
            "Trainable params: 113,233\n",
            "Non-trainable params: 0\n",
            "_________________________________________________________________\n",
            "WARNING:tensorflow:From /usr/local/lib/python3.6/dist-packages/keras/optimizers.py:793: The name tf.train.Optimizer is deprecated. Please use tf.compat.v1.train.Optimizer instead.\n",
            "\n",
            "WARNING:tensorflow:From /usr/local/lib/python3.6/dist-packages/keras/backend/tensorflow_backend.py:3657: The name tf.log is deprecated. Please use tf.math.log instead.\n",
            "\n",
            "WARNING:tensorflow:From /usr/local/lib/python3.6/dist-packages/tensorflow_core/python/ops/nn_impl.py:183: where (from tensorflow.python.ops.array_ops) is deprecated and will be removed in a future version.\n",
            "Instructions for updating:\n",
            "Use tf.where in 2.0, which has the same broadcast rule as np.where\n"
          ],
          "name": "stdout"
        }
      ]
    },
    {
      "cell_type": "markdown",
      "metadata": {
        "_uuid": "40367a161515fd84dfd2fc8fdb0e30e3bff0933c",
        "id": "YtRevk4pEEGu",
        "colab_type": "text"
      },
      "source": [
        "**6. Fitting the model on training data**"
      ]
    },
    {
      "cell_type": "code",
      "metadata": {
        "_kg_hide-input": true,
        "_uuid": "88c0a252f6524b43917591a454d50e1918d9cb2e",
        "id": "wuSI6Fy2EEGw",
        "colab_type": "code",
        "outputId": "d342f698-de66-4eca-d07a-cad651ce801b",
        "colab": {
          "base_uri": "https://localhost:8080/",
          "height": 719
        }
      },
      "source": [
        "from keras.callbacks import EarlyStopping\n",
        "model.fit(sequences_matrix,Y_train,batch_size=100,epochs=20,\n",
        "          validation_split=0.1)"
      ],
      "execution_count": 30,
      "outputs": [
        {
          "output_type": "stream",
          "text": [
            "Train on 19230 samples, validate on 2137 samples\n",
            "Epoch 1/20\n",
            "19230/19230 [==============================] - 52s 3ms/step - loss: 0.3577 - acc: 0.8397 - val_loss: 0.3884 - val_acc: 0.8273\n",
            "Epoch 2/20\n",
            "19230/19230 [==============================] - 52s 3ms/step - loss: 0.3455 - acc: 0.8451 - val_loss: 0.3912 - val_acc: 0.8283\n",
            "Epoch 3/20\n",
            "19230/19230 [==============================] - 54s 3ms/step - loss: 0.3317 - acc: 0.8530 - val_loss: 0.3822 - val_acc: 0.8278\n",
            "Epoch 4/20\n",
            "19230/19230 [==============================] - 55s 3ms/step - loss: 0.3231 - acc: 0.8573 - val_loss: 0.4011 - val_acc: 0.8152\n",
            "Epoch 5/20\n",
            "19230/19230 [==============================] - 56s 3ms/step - loss: 0.3172 - acc: 0.8607 - val_loss: 0.3883 - val_acc: 0.8245\n",
            "Epoch 6/20\n",
            "19230/19230 [==============================] - 55s 3ms/step - loss: 0.3104 - acc: 0.8638 - val_loss: 0.4728 - val_acc: 0.8109\n",
            "Epoch 7/20\n",
            "19230/19230 [==============================] - 53s 3ms/step - loss: 0.3044 - acc: 0.8667 - val_loss: 0.3904 - val_acc: 0.8231\n",
            "Epoch 8/20\n",
            "19230/19230 [==============================] - 54s 3ms/step - loss: 0.2961 - acc: 0.8692 - val_loss: 0.3869 - val_acc: 0.8250\n",
            "Epoch 9/20\n",
            "19230/19230 [==============================] - 54s 3ms/step - loss: 0.2899 - acc: 0.8718 - val_loss: 0.4127 - val_acc: 0.8184\n",
            "Epoch 10/20\n",
            "19230/19230 [==============================] - 54s 3ms/step - loss: 0.2832 - acc: 0.8755 - val_loss: 0.4083 - val_acc: 0.8311\n",
            "Epoch 11/20\n",
            "19230/19230 [==============================] - 54s 3ms/step - loss: 0.2756 - acc: 0.8779 - val_loss: 0.4237 - val_acc: 0.8147\n",
            "Epoch 12/20\n",
            "19230/19230 [==============================] - 54s 3ms/step - loss: 0.2670 - acc: 0.8839 - val_loss: 0.4735 - val_acc: 0.8236\n",
            "Epoch 13/20\n",
            "19230/19230 [==============================] - 54s 3ms/step - loss: 0.2598 - acc: 0.8875 - val_loss: 0.4174 - val_acc: 0.8208\n",
            "Epoch 14/20\n",
            "19230/19230 [==============================] - 54s 3ms/step - loss: 0.2547 - acc: 0.8897 - val_loss: 0.4840 - val_acc: 0.8175\n",
            "Epoch 15/20\n",
            "19230/19230 [==============================] - 54s 3ms/step - loss: 0.2463 - acc: 0.8942 - val_loss: 0.4909 - val_acc: 0.8250\n",
            "Epoch 16/20\n",
            "19230/19230 [==============================] - 54s 3ms/step - loss: 0.2394 - acc: 0.8977 - val_loss: 0.4539 - val_acc: 0.8189\n",
            "Epoch 17/20\n",
            "19230/19230 [==============================] - 53s 3ms/step - loss: 0.2306 - acc: 0.9004 - val_loss: 0.5718 - val_acc: 0.8156\n",
            "Epoch 18/20\n",
            "19230/19230 [==============================] - 56s 3ms/step - loss: 0.2248 - acc: 0.9033 - val_loss: 0.5195 - val_acc: 0.8184\n",
            "Epoch 19/20\n",
            "19230/19230 [==============================] - 54s 3ms/step - loss: 0.2160 - acc: 0.9070 - val_loss: 0.5082 - val_acc: 0.8053\n",
            "Epoch 20/20\n",
            "19230/19230 [==============================] - 56s 3ms/step - loss: 0.2106 - acc: 0.9102 - val_loss: 0.5537 - val_acc: 0.8072\n"
          ],
          "name": "stdout"
        },
        {
          "output_type": "execute_result",
          "data": {
            "text/plain": [
              "<keras.callbacks.History at 0x7fca75f38908>"
            ]
          },
          "metadata": {
            "tags": []
          },
          "execution_count": 30
        }
      ]
    },
    {
      "cell_type": "markdown",
      "metadata": {
        "_uuid": "47b9fe15a576abc2dc467d1a019aa776de6d363f",
        "id": "rjA_5AW4EEG2",
        "colab_type": "text"
      },
      "source": [
        "**7. Time to test the model**"
      ]
    },
    {
      "cell_type": "code",
      "metadata": {
        "_kg_hide-input": true,
        "_uuid": "d0ccdfd49026c27776b93c3cf38b9f4259c4035b",
        "id": "x5K5-_VpEEG3",
        "colab_type": "code",
        "colab": {}
      },
      "source": [
        "test_sequences = tok.texts_to_sequences(X_test)\n",
        "test_sequences_matrix = sequence.pad_sequences(test_sequences,maxlen=max_len)"
      ],
      "execution_count": 0,
      "outputs": []
    },
    {
      "cell_type": "markdown",
      "metadata": {
        "_kg_hide-input": false,
        "_uuid": "f9d4bc0f0575d68842942e4f15ca78129375d158",
        "id": "PIlAYLrcEEG9",
        "colab_type": "text"
      },
      "source": [
        "**8. Model Accuracy**"
      ]
    },
    {
      "cell_type": "code",
      "metadata": {
        "_kg_hide-input": true,
        "_uuid": "0108b02f93103dd42091064378cc6b5b8e64c875",
        "id": "VBCHBiG-EEG-",
        "colab_type": "code",
        "outputId": "7081a695-49ae-4c8b-929b-ffdac5a04c58",
        "colab": {
          "base_uri": "https://localhost:8080/",
          "height": 84
        }
      },
      "source": [
        "accr = model.evaluate(test_sequences_matrix,Y_test)\n",
        "print('Test set\\n  Loss: {:0.3f}\\n  Accuracy: {:0.3f}'.format(accr[0],accr[1]))"
      ],
      "execution_count": 32,
      "outputs": [
        {
          "output_type": "stream",
          "text": [
            "5342/5342 [==============================] - 16s 3ms/step\n",
            "Test set\n",
            "  Loss: 0.583\n",
            "  Accuracy: 0.805\n"
          ],
          "name": "stdout"
        }
      ]
    },
    {
      "cell_type": "markdown",
      "metadata": {
        "_uuid": "ccaf4a30181733d7cdf2c30271704270496c63dd",
        "id": "qLcXTxJ1EEHG",
        "colab_type": "text"
      },
      "source": [
        "![](https://media.giphy.com/media/QMkPpxPDYY0fu/giphy.gif)"
      ]
    }
  ]
}