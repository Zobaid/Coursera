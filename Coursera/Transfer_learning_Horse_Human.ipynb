{
  "nbformat": 4,
  "nbformat_minor": 0,
  "metadata": {
    "colab": {
      "name": "Exercise 7 - Question.ipynb",
      "provenance": [],
      "collapsed_sections": []
    },
    "kernelspec": {
      "display_name": "Python 3",
      "name": "python3"
    },
    "accelerator": "GPU"
  },
  "cells": [
    {
      "cell_type": "code",
      "metadata": {
        "id": "lbFmQdsZs5eW",
        "colab_type": "code",
        "colab": {
          "base_uri": "https://localhost:8080/",
          "height": 62
        },
        "outputId": "97ebde7c-0799-4f19-e3ff-e44c34f67914"
      },
      "source": [
        "# Import all the necessary files!\n",
        "import os\n",
        "import tensorflow as tf\n",
        "from tensorflow.keras import layers\n",
        "from tensorflow.keras import Model"
      ],
      "execution_count": 1,
      "outputs": [
        {
          "output_type": "display_data",
          "data": {
            "text/html": [
              "<p style=\"color: red;\">\n",
              "The default version of TensorFlow in Colab will soon switch to TensorFlow 2.x.<br>\n",
              "We recommend you <a href=\"https://www.tensorflow.org/guide/migrate\" target=\"_blank\">upgrade</a> now \n",
              "or ensure your notebook will continue to use TensorFlow 1.x via the <code>%tensorflow_version 1.x</code> magic:\n",
              "<a href=\"https://colab.research.google.com/notebooks/tensorflow_version.ipynb\" target=\"_blank\">more info</a>.</p>\n"
            ],
            "text/plain": [
              "<IPython.core.display.HTML object>"
            ]
          },
          "metadata": {
            "tags": []
          }
        }
      ]
    },
    {
      "cell_type": "code",
      "metadata": {
        "colab_type": "code",
        "id": "1xJZ5glPPCRz",
        "colab": {
          "base_uri": "https://localhost:8080/",
          "height": 271
        },
        "outputId": "004b1430-936f-452a-a3be-0d33976c2b1e"
      },
      "source": [
        "# Download the inception v3 weights\n",
        "!wget --no-check-certificate \\\n",
        "    https://storage.googleapis.com/mledu-datasets/inception_v3_weights_tf_dim_ordering_tf_kernels_notop.h5 \\\n",
        "    -O /tmp/inception_v3_weights_tf_dim_ordering_tf_kernels_notop.h5\n",
        "\n",
        "# Import the inception model  \n",
        "from tensorflow.keras.applications.inception_v3 import InceptionV3\n",
        "\n",
        "# Create an instance of the inception model from the local pre-trained weights\n",
        "local_weights_file = '/tmp/inception_v3_weights_tf_dim_ordering_tf_kernels_notop.h5'\n",
        "\n",
        "pre_trained_model =InceptionV3(input_shape = (150, 150, 3), \n",
        "                                include_top = False, \n",
        "                                weights = None) # Your Code Here\n",
        "\n",
        "pre_trained_model.load_weights(local_weights_file)\n",
        "\n",
        "# Make all the layers in the pre-trained model non-trainable\n",
        "for layer in pre_trained_model.layers:\n",
        "  # Your Code Here\n",
        "  layer.trainable = False\n",
        "  \n",
        "# Print the model summary\n",
        "#pre_trained_model.summary()\n",
        "\n",
        "# Expected Output is extremely large, but should end with:\n",
        "\n",
        "#batch_normalization_v1_281 (Bat (None, 3, 3, 192)    576         conv2d_281[0][0]                 \n",
        "#__________________________________________________________________________________________________\n",
        "#activation_273 (Activation)     (None, 3, 3, 320)    0           batch_normalization_v1_273[0][0] \n",
        "#__________________________________________________________________________________________________\n",
        "#mixed9_1 (Concatenate)          (None, 3, 3, 768)    0           activation_275[0][0]             \n",
        "#                                                                 activation_276[0][0]             \n",
        "#__________________________________________________________________________________________________\n",
        "#concatenate_5 (Concatenate)     (None, 3, 3, 768)    0           activation_279[0][0]             \n",
        "#                                                                 activation_280[0][0]             \n",
        "#__________________________________________________________________________________________________\n",
        "#activation_281 (Activation)     (None, 3, 3, 192)    0           batch_normalization_v1_281[0][0] \n",
        "#__________________________________________________________________________________________________\n",
        "#mixed10 (Concatenate)           (None, 3, 3, 2048)   0           activation_273[0][0]             \n",
        "#                                                                 mixed9_1[0][0]                   \n",
        "#                                                                 concatenate_5[0][0]              \n",
        "#                                                                 activation_281[0][0]             \n",
        "#==================================================================================================\n",
        "#Total params: 21,802,784\n",
        "#Trainable params: 0\n",
        "#Non-trainable params: 21,802,784"
      ],
      "execution_count": 2,
      "outputs": [
        {
          "output_type": "stream",
          "text": [
            "--2020-02-03 08:39:21--  https://storage.googleapis.com/mledu-datasets/inception_v3_weights_tf_dim_ordering_tf_kernels_notop.h5\n",
            "Resolving storage.googleapis.com (storage.googleapis.com)... 74.125.195.128, 2607:f8b0:400e:c07::80\n",
            "Connecting to storage.googleapis.com (storage.googleapis.com)|74.125.195.128|:443... connected.\n",
            "HTTP request sent, awaiting response... 200 OK\n",
            "Length: 87910968 (84M) [application/x-hdf]\n",
            "Saving to: ‘/tmp/inception_v3_weights_tf_dim_ordering_tf_kernels_notop.h5’\n",
            "\n",
            "/tmp/inception_v3_w 100%[===================>]  83.84M  44.8MB/s    in 1.9s    \n",
            "\n",
            "2020-02-03 08:39:23 (44.8 MB/s) - ‘/tmp/inception_v3_weights_tf_dim_ordering_tf_kernels_notop.h5’ saved [87910968/87910968]\n",
            "\n",
            "WARNING:tensorflow:From /usr/local/lib/python3.6/dist-packages/tensorflow_core/python/ops/resource_variable_ops.py:1630: calling BaseResourceVariable.__init__ (from tensorflow.python.ops.resource_variable_ops) with constraint is deprecated and will be removed in a future version.\n",
            "Instructions for updating:\n",
            "If using Keras pass *_constraint arguments to layers.\n"
          ],
          "name": "stdout"
        }
      ]
    },
    {
      "cell_type": "code",
      "metadata": {
        "id": "CFsUlwdfs_wg",
        "colab_type": "code",
        "colab": {
          "base_uri": "https://localhost:8080/",
          "height": 33
        },
        "outputId": "c2a29aad-f617-483a-b7a6-f73e98a3a7af"
      },
      "source": [
        "last_layer = pre_trained_model.get_layer('mixed7')# Your Code Here\n",
        "print('last layer output shape: ', last_layer.output_shape)\n",
        "last_output = last_layer.output# Your Code Here\n",
        "\n",
        "# Expected Output:\n",
        "# ('last layer output shape: ', (None, 7, 7, 768))"
      ],
      "execution_count": 3,
      "outputs": [
        {
          "output_type": "stream",
          "text": [
            "last layer output shape:  (None, 7, 7, 768)\n"
          ],
          "name": "stdout"
        }
      ]
    },
    {
      "cell_type": "code",
      "metadata": {
        "id": "-bsWZWp5oMq9",
        "colab_type": "code",
        "colab": {}
      },
      "source": [
        "# Define a Callback class that stops training once accuracy reaches 99.9%\n",
        "class myCallback(tf.keras.callbacks.Callback):\n",
        "  def on_epoch_end(self, epoch, logs={}):\n",
        "    if(logs.get('acc')>0.999):\n",
        "      print(\"\\nReached 99.9% accuracy so cancelling training!\")\n",
        "      self.model.stop_training = True\n",
        "\n",
        "      "
      ],
      "execution_count": 0,
      "outputs": []
    },
    {
      "cell_type": "code",
      "metadata": {
        "colab_type": "code",
        "id": "BMXb913pbvFg",
        "colab": {
          "base_uri": "https://localhost:8080/",
          "height": 87
        },
        "outputId": "582a8d64-630e-40d1-97c3-a3795494795f"
      },
      "source": [
        "from tensorflow.keras.optimizers import RMSprop\n",
        "\n",
        "# Flatten the output layer to 1 dimension\n",
        "x = layers.Flatten()(last_output)\n",
        "# Add a fully connected layer with 1,024 hidden units and ReLU activation\n",
        "x = layers.Dense(1024, activation='relu')(x)\n",
        "# Add a dropout rate of 0.2\n",
        "x = layers.Dropout(0.2) (x)                  \n",
        "# Add a final sigmoid layer for classification\n",
        "x = layers.Dense  (1, activation='sigmoid')(x)           \n",
        "\n",
        "model = Model( pre_trained_model.input, x)\n",
        "\n",
        "model.compile(optimizer = RMSprop(lr=0.0001), \n",
        "              loss = 'binary_crossentropy', \n",
        "              metrics = ['acc'])\n",
        "\n",
        "#model.summary()\n",
        "\n",
        "# Expected output will be large. Last few lines should be:\n",
        "\n",
        "# mixed7 (Concatenate)            (None, 7, 7, 768)    0           activation_248[0][0]             \n",
        "#                                                                  activation_251[0][0]             \n",
        "#                                                                  activation_256[0][0]             \n",
        "#                                                                  activation_257[0][0]             \n",
        "# __________________________________________________________________________________________________\n",
        "# flatten_4 (Flatten)             (None, 37632)        0           mixed7[0][0]                     \n",
        "# __________________________________________________________________________________________________\n",
        "# dense_8 (Dense)                 (None, 1024)         38536192    flatten_4[0][0]                  \n",
        "# __________________________________________________________________________________________________\n",
        "# dropout_4 (Dropout)             (None, 1024)         0           dense_8[0][0]                    \n",
        "# __________________________________________________________________________________________________\n",
        "# dense_9 (Dense)                 (None, 1)            1025        dropout_4[0][0]                  \n",
        "# ==================================================================================================\n",
        "# Total params: 47,512,481\n",
        "# Trainable params: 38,537,217\n",
        "# Non-trainable params: 8,975,264\n"
      ],
      "execution_count": 5,
      "outputs": [
        {
          "output_type": "stream",
          "text": [
            "WARNING:tensorflow:From /usr/local/lib/python3.6/dist-packages/tensorflow_core/python/ops/nn_impl.py:183: where (from tensorflow.python.ops.array_ops) is deprecated and will be removed in a future version.\n",
            "Instructions for updating:\n",
            "Use tf.where in 2.0, which has the same broadcast rule as np.where\n"
          ],
          "name": "stdout"
        }
      ]
    },
    {
      "cell_type": "code",
      "metadata": {
        "id": "HrnL_IQ8knWA",
        "colab_type": "code",
        "colab": {
          "base_uri": "https://localhost:8080/",
          "height": 385
        },
        "outputId": "b2e56a39-48f1-4f9b-d0b6-274e3759d820"
      },
      "source": [
        "# Get the Horse or Human dataset\n",
        "!wget --no-check-certificate https://storage.googleapis.com/laurencemoroney-blog.appspot.com/horse-or-human.zip -O /tmp/horse-or-human.zip\n",
        "\n",
        "# Get the Horse or Human Validation dataset\n",
        "!wget --no-check-certificate https://storage.googleapis.com/laurencemoroney-blog.appspot.com/validation-horse-or-human.zip -O /tmp/validation-horse-or-human.zip \n",
        "  \n",
        "from tensorflow.keras.preprocessing.image import ImageDataGenerator\n",
        "\n",
        "import os\n",
        "import zipfile\n",
        "\n",
        "local_zip = '//tmp/horse-or-human.zip'\n",
        "zip_ref = zipfile.ZipFile(local_zip, 'r')\n",
        "zip_ref.extractall('/tmp/training')\n",
        "zip_ref.close()\n",
        "\n",
        "local_zip = '//tmp/validation-horse-or-human.zip'\n",
        "zip_ref = zipfile.ZipFile(local_zip, 'r')\n",
        "zip_ref.extractall('/tmp/validation')\n",
        "zip_ref.close()"
      ],
      "execution_count": 6,
      "outputs": [
        {
          "output_type": "stream",
          "text": [
            "--2020-02-03 08:39:42--  https://storage.googleapis.com/laurencemoroney-blog.appspot.com/horse-or-human.zip\n",
            "Resolving storage.googleapis.com (storage.googleapis.com)... 74.125.195.128, 2607:f8b0:400e:c08::80\n",
            "Connecting to storage.googleapis.com (storage.googleapis.com)|74.125.195.128|:443... connected.\n",
            "HTTP request sent, awaiting response... 200 OK\n",
            "Length: 149574867 (143M) [application/zip]\n",
            "Saving to: ‘/tmp/horse-or-human.zip’\n",
            "\n",
            "\r/tmp/horse-or-human   0%[                    ]       0  --.-KB/s               \r/tmp/horse-or-human   8%[>                   ]  12.70M  63.5MB/s               \r/tmp/horse-or-human  50%[=========>          ]  72.01M   141MB/s               \r/tmp/horse-or-human  78%[==============>     ] 112.22M   157MB/s               \r/tmp/horse-or-human 100%[===================>] 142.65M   176MB/s    in 0.8s    \n",
            "\n",
            "2020-02-03 08:39:43 (176 MB/s) - ‘/tmp/horse-or-human.zip’ saved [149574867/149574867]\n",
            "\n",
            "--2020-02-03 08:39:47--  https://storage.googleapis.com/laurencemoroney-blog.appspot.com/validation-horse-or-human.zip\n",
            "Resolving storage.googleapis.com (storage.googleapis.com)... 74.125.195.128, 2607:f8b0:400e:c07::80\n",
            "Connecting to storage.googleapis.com (storage.googleapis.com)|74.125.195.128|:443... connected.\n",
            "HTTP request sent, awaiting response... 200 OK\n",
            "Length: 11480187 (11M) [application/zip]\n",
            "Saving to: ‘/tmp/validation-horse-or-human.zip’\n",
            "\n",
            "/tmp/validation-hor 100%[===================>]  10.95M  --.-KB/s    in 0.08s   \n",
            "\n",
            "2020-02-03 08:39:47 (135 MB/s) - ‘/tmp/validation-horse-or-human.zip’ saved [11480187/11480187]\n",
            "\n"
          ],
          "name": "stdout"
        }
      ]
    },
    {
      "cell_type": "code",
      "metadata": {
        "id": "y9okX7_ovskI",
        "colab_type": "code",
        "colab": {
          "base_uri": "https://localhost:8080/",
          "height": 104
        },
        "outputId": "fb3813da-8a3f-4266-c8cb-42f5aec7f5fa"
      },
      "source": [
        "base_dir='/tmp/horse-or-human'\n",
        "train_dir = '/tmp/training'\n",
        "validation_dir = '/tmp/validation'\n",
        "train_horses_dir =os.path.join(train_dir,'horses') # Your Code Here\n",
        "train_humans_dir = os.path.join(train_dir,'humans')# Your Code Here\n",
        "validation_horses_dir =os.path.join(validation_dir,'horses') # Your Code Here\n",
        "validation_humans_dir =os.path.join(validation_dir,'humans') # Your Code Here\n",
        "\n",
        "train_horses_fnames =os.listdir(train_horses_dir) # Your Code Here\n",
        "train_humans_fnames =os.listdir(train_humans_dir) # Your Code Here\n",
        "validation_horses_fnames =os.listdir(validation_horses_dir) # Your Code Here\n",
        "validation_humans_fnames =os.listdir(validation_humans_dir) # Your Code Here\n",
        "\n",
        "print(train_horses_fnames)# Your Code Here)\n",
        "print(train_humans_fnames)# Your Code Here)\n",
        "print(validation_horses_fnames)# Your Code Here)\n",
        "print(validation_humans_fnames)# Your Code Here)\n",
        "\n",
        "# Expected Output:\n",
        "# 500\n",
        "# 527\n",
        "# 128\n",
        "# 128"
      ],
      "execution_count": 8,
      "outputs": [
        {
          "output_type": "stream",
          "text": [
            "['horse41-1.png', 'horse01-3.png', 'horse23-7.png', 'horse43-9.png', 'horse28-5.png', 'horse21-1.png', 'horse25-6.png', 'horse21-3.png', 'horse17-8.png', 'horse11-3.png', 'horse33-4.png', 'horse50-2.png', 'horse24-8.png', 'horse07-4.png', 'horse28-6.png', 'horse20-3.png', 'horse22-1.png', 'horse34-8.png', 'horse32-1.png', 'horse48-6.png', 'horse33-0.png', 'horse30-6.png', 'horse50-5.png', 'horse33-3.png', 'horse29-7.png', 'horse47-3.png', 'horse33-9.png', 'horse10-0.png', 'horse05-7.png', 'horse30-9.png', 'horse07-7.png', 'horse23-4.png', 'horse46-9.png', 'horse04-5.png', 'horse41-9.png', 'horse46-4.png', 'horse32-0.png', 'horse34-7.png', 'horse25-3.png', 'horse12-2.png', 'horse37-2.png', 'horse46-6.png', 'horse43-3.png', 'horse17-5.png', 'horse08-1.png', 'horse15-1.png', 'horse02-7.png', 'horse36-0.png', 'horse16-8.png', 'horse49-3.png', 'horse37-7.png', 'horse13-1.png', 'horse32-7.png', 'horse15-9.png', 'horse18-9.png', 'horse38-3.png', 'horse27-7.png', 'horse37-0.png', 'horse04-4.png', 'horse36-3.png', 'horse06-5.png', 'horse09-1.png', 'horse36-8.png', 'horse32-5.png', 'horse35-8.png', 'horse27-0.png', 'horse14-6.png', 'horse41-6.png', 'horse40-7.png', 'horse44-3.png', 'horse11-7.png', 'horse08-6.png', 'horse04-3.png', 'horse42-1.png', 'horse10-5.png', 'horse23-1.png', 'horse05-0.png', 'horse26-4.png', 'horse49-9.png', 'horse10-8.png', 'horse10-3.png', 'horse14-2.png', 'horse19-1.png', 'horse17-1.png', 'horse12-8.png', 'horse36-7.png', 'horse41-3.png', 'horse13-7.png', 'horse13-3.png', 'horse18-0.png', 'horse19-8.png', 'horse47-1.png', 'horse40-3.png', 'horse32-2.png', 'horse14-1.png', 'horse09-3.png', 'horse25-2.png', 'horse15-3.png', 'horse41-5.png', 'horse02-9.png', 'horse25-0.png', 'horse18-6.png', 'horse23-6.png', 'horse42-0.png', 'horse07-9.png', 'horse21-6.png', 'horse35-7.png', 'horse38-6.png', 'horse13-6.png', 'horse43-8.png', 'horse11-0.png', 'horse32-6.png', 'horse47-2.png', 'horse28-2.png', 'horse48-5.png', 'horse08-9.png', 'horse24-6.png', 'horse25-5.png', 'horse22-6.png', 'horse02-4.png', 'horse43-6.png', 'horse17-6.png', 'horse08-7.png', 'horse30-7.png', 'horse29-4.png', 'horse05-3.png', 'horse24-3.png', 'horse44-1.png', 'horse40-8.png', 'horse44-7.png', 'horse14-7.png', 'horse29-5.png', 'horse26-9.png', 'horse16-7.png', 'horse15-8.png', 'horse12-4.png', 'horse49-6.png', 'horse06-8.png', 'horse30-3.png', 'horse50-4.png', 'horse16-1.png', 'horse20-0.png', 'horse32-9.png', 'horse29-3.png', 'horse20-6.png', 'horse41-0.png', 'horse25-8.png', 'horse07-1.png', 'horse31-5.png', 'horse14-5.png', 'horse03-9.png', 'horse25-7.png', 'horse19-0.png', 'horse28-7.png', 'horse15-4.png', 'horse16-3.png', 'horse35-4.png', 'horse09-4.png', 'horse24-7.png', 'horse23-2.png', 'horse20-4.png', 'horse39-5.png', 'horse26-7.png', 'horse44-2.png', 'horse22-0.png', 'horse41-7.png', 'horse41-4.png', 'horse15-5.png', 'horse44-9.png', 'horse20-8.png', 'horse22-2.png', 'horse36-9.png', 'horse15-6.png', 'horse19-4.png', 'horse06-1.png', 'horse09-8.png', 'horse50-0.png', 'horse08-5.png', 'horse04-2.png', 'horse04-6.png', 'horse03-3.png', 'horse39-2.png', 'horse22-3.png', 'horse29-0.png', 'horse06-2.png', 'horse20-1.png', 'horse03-6.png', 'horse10-7.png', 'horse16-5.png', 'horse17-4.png', 'horse21-4.png', 'horse48-2.png', 'horse13-5.png', 'horse43-5.png', 'horse03-7.png', 'horse43-0.png', 'horse20-9.png', 'horse20-2.png', 'horse29-2.png', 'horse08-4.png', 'horse04-0.png', 'horse46-0.png', 'horse34-1.png', 'horse01-1.png', 'horse22-4.png', 'horse17-3.png', 'horse50-7.png', 'horse47-4.png', 'horse46-1.png', 'horse31-6.png', 'horse08-2.png', 'horse42-9.png', 'horse31-7.png', 'horse19-2.png', 'horse39-7.png', 'horse24-2.png', 'horse39-1.png', 'horse38-4.png', 'horse19-5.png', 'horse49-0.png', 'horse09-2.png', 'horse37-6.png', 'horse30-4.png', 'horse08-0.png', 'horse50-6.png', 'horse33-8.png', 'horse28-1.png', 'horse08-8.png', 'horse36-1.png', 'horse08-3.png', 'horse03-5.png', 'horse44-4.png', 'horse27-9.png', 'horse26-8.png', 'horse37-3.png', 'horse35-2.png', 'horse05-4.png', 'horse13-2.png', 'horse14-4.png', 'horse47-8.png', 'horse42-8.png', 'horse33-6.png', 'horse50-3.png', 'horse35-5.png', 'horse30-0.png', 'horse05-8.png', 'horse37-4.png', 'horse11-4.png', 'horse14-9.png', 'horse33-2.png', 'horse45-4.png', 'horse20-5.png', 'horse33-7.png', 'horse26-2.png', 'horse30-8.png', 'horse37-8.png', 'horse03-0.png', 'horse35-9.png', 'horse24-0.png', 'horse26-3.png', 'horse06-7.png', 'horse31-2.png', 'horse40-1.png', 'horse44-6.png', 'horse49-5.png', 'horse44-8.png', 'horse48-4.png', 'horse49-2.png', 'horse33-5.png', 'horse38-1.png', 'horse28-8.png', 'horse07-0.png', 'horse29-1.png', 'horse05-9.png', 'horse42-6.png', 'horse01-0.png', 'horse46-3.png', 'horse12-7.png', 'horse24-5.png', 'horse39-6.png', 'horse37-9.png', 'horse46-5.png', 'horse40-4.png', 'horse36-5.png', 'horse18-2.png', 'horse13-4.png', 'horse47-6.png', 'horse19-7.png', 'horse45-2.png', 'horse23-0.png', 'horse41-2.png', 'horse11-8.png', 'horse22-9.png', 'horse42-3.png', 'horse02-6.png', 'horse30-2.png', 'horse13-9.png', 'horse21-2.png', 'horse21-5.png', 'horse13-8.png', 'horse11-9.png', 'horse39-3.png', 'horse33-1.png', 'horse48-3.png', 'horse18-8.png', 'horse07-5.png', 'horse27-6.png', 'horse18-4.png', 'horse39-8.png', 'horse24-9.png', 'horse45-6.png', 'horse36-4.png', 'horse17-7.png', 'horse15-0.png', 'horse34-0.png', 'horse48-8.png', 'horse29-9.png', 'horse19-3.png', 'horse42-5.png', 'horse42-2.png', 'horse18-7.png', 'horse01-6.png', 'horse40-2.png', 'horse31-1.png', 'horse16-9.png', 'horse34-6.png', 'horse48-7.png', 'horse42-7.png', 'horse16-6.png', 'horse45-1.png', 'horse46-2.png', 'horse29-6.png', 'horse34-4.png', 'horse49-1.png', 'horse02-3.png', 'horse06-3.png', 'horse50-8.png', 'horse22-5.png', 'horse31-8.png', 'horse11-2.png', 'horse12-5.png', 'horse01-7.png', 'horse16-4.png', 'horse48-9.png', 'horse12-1.png', 'horse34-2.png', 'horse49-8.png', 'horse27-1.png', 'horse18-3.png', 'horse47-5.png', 'horse23-9.png', 'horse45-5.png', 'horse45-0.png', 'horse40-6.png', 'horse06-4.png', 'horse27-2.png', 'horse02-0.png', 'horse27-8.png', 'horse35-1.png', 'horse35-3.png', 'horse24-4.png', 'horse11-5.png', 'horse17-9.png', 'horse31-3.png', 'horse18-5.png', 'horse45-3.png', 'horse22-8.png', 'horse48-0.png', 'horse28-9.png', 'horse30-5.png', 'horse03-4.png', 'horse40-9.png', 'horse09-0.png', 'horse46-7.png', 'horse10-6.png', 'horse30-1.png', 'horse01-9.png', 'horse09-7.png', 'horse38-2.png', 'horse50-9.png', 'horse01-4.png', 'horse15-2.png', 'horse41-8.png', 'horse31-0.png', 'horse40-5.png', 'horse45-8.png', 'horse47-7.png', 'horse27-5.png', 'horse35-0.png', 'horse09-5.png', 'horse26-5.png', 'horse04-9.png', 'horse43-2.png', 'horse27-3.png', 'horse10-1.png', 'horse49-4.png', 'horse25-4.png', 'horse02-5.png', 'horse26-0.png', 'horse47-0.png', 'horse12-3.png', 'horse23-3.png', 'horse44-5.png', 'horse31-4.png', 'horse28-4.png', 'horse43-7.png', 'horse14-3.png', 'horse02-8.png', 'horse12-0.png', 'horse21-9.png', 'horse37-1.png', 'horse05-1.png', 'horse05-2.png', 'horse13-0.png', 'horse25-1.png', 'horse40-0.png', 'horse31-9.png', 'horse05-5.png', 'horse44-0.png', 'horse07-3.png', 'horse32-4.png', 'horse15-7.png', 'horse10-2.png', 'horse38-0.png', 'horse42-4.png', 'horse49-7.png', 'horse32-3.png', 'horse02-1.png', 'horse17-2.png', 'horse16-0.png', 'horse45-7.png', 'horse50-1.png', 'horse03-2.png', 'horse29-8.png', 'horse28-0.png', 'horse21-0.png', 'horse43-4.png', 'horse19-6.png', 'horse04-8.png', 'horse22-7.png', 'horse03-1.png', 'horse20-7.png', 'horse06-6.png', 'horse11-6.png', 'horse39-0.png', 'horse47-9.png', 'horse19-9.png', 'horse12-9.png', 'horse04-1.png', 'horse16-2.png', 'horse27-4.png', 'horse38-7.png', 'horse07-6.png', 'horse34-5.png', 'horse37-5.png', 'horse01-5.png', 'horse23-5.png', 'horse21-7.png', 'horse09-6.png', 'horse06-0.png', 'horse34-9.png', 'horse14-8.png', 'horse11-1.png', 'horse23-8.png', 'horse05-6.png', 'horse38-5.png', 'horse43-1.png', 'horse21-8.png', 'horse10-4.png', 'horse17-0.png', 'horse07-8.png', 'horse39-4.png', 'horse18-1.png', 'horse39-9.png', 'horse26-6.png', 'horse14-0.png', 'horse35-6.png', 'horse28-3.png', 'horse36-6.png', 'horse02-2.png', 'horse34-3.png', 'horse09-9.png', 'horse24-1.png', 'horse12-6.png', 'horse38-8.png', 'horse03-8.png', 'horse04-7.png', 'horse26-1.png', 'horse46-8.png', 'horse32-8.png', 'horse01-2.png', 'horse45-9.png', 'horse10-9.png', 'horse25-9.png', 'horse38-9.png', 'horse01-8.png', 'horse48-1.png', 'horse07-2.png', 'horse36-2.png', 'horse06-9.png']\n",
            "['human03-20.png', 'human02-16.png', 'human11-30.png', 'human01-16.png', 'human11-20.png', 'human12-15.png', 'human01-12.png', 'human07-29.png', 'human05-18.png', 'human10-24.png', 'human10-19.png', 'human02-24.png', 'human13-28.png', 'human06-06.png', 'human15-13.png', 'human08-15.png', 'human07-04.png', 'human09-10.png', 'human02-27.png', 'human13-17.png', 'human04-11.png', 'human17-01.png', 'human13-01.png', 'human01-26.png', 'human16-05.png', 'human13-22.png', 'human14-09.png', 'human06-16.png', 'human07-20.png', 'human12-02.png', 'human14-13.png', 'human07-16.png', 'human14-03.png', 'human05-13.png', 'human05-03.png', 'human08-27.png', 'human16-20.png', 'human16-10.png', 'human08-16.png', 'human01-15.png', 'human16-19.png', 'human05-16.png', 'human05-06.png', 'human03-02.png', 'human16-13.png', 'human15-06.png', 'human08-14.png', 'human12-05.png', 'human03-28.png', 'human02-01.png', 'human09-09.png', 'human13-29.png', 'human17-11.png', 'human06-00.png', 'human16-30.png', 'human15-08.png', 'human05-22.png', 'human07-14.png', 'human06-05.png', 'human03-14.png', 'human10-04.png', 'human02-19.png', 'human15-21.png', 'human04-01.png', 'human17-27.png', 'human08-19.png', 'human03-03.png', 'human02-06.png', 'human11-15.png', 'human16-21.png', 'human11-19.png', 'human05-19.png', 'human14-21.png', 'human12-19.png', 'human04-28.png', 'human03-01.png', 'human11-05.png', 'human09-15.png', 'human09-11.png', 'human09-25.png', 'human14-19.png', 'human16-22.png', 'human08-20.png', 'human16-26.png', 'human11-22.png', 'human14-11.png', 'human02-10.png', 'human08-08.png', 'human07-18.png', 'human04-30.png', 'human06-01.png', 'human08-10.png', 'human10-30.png', 'human17-04.png', 'human07-10.png', 'human14-25.png', 'human14-00.png', 'human17-12.png', 'human17-05.png', 'human05-09.png', 'human05-01.png', 'human10-25.png', 'human15-28.png', 'human07-08.png', 'human15-04.png', 'human03-16.png', 'human04-22.png', 'human12-09.png', 'human14-27.png', 'human09-26.png', 'human13-27.png', 'human03-11.png', 'human05-15.png', 'human16-29.png', 'human10-13.png', 'human01-30.png', 'human05-20.png', 'human17-14.png', 'human11-13.png', 'human16-27.png', 'human14-26.png', 'human13-13.png', 'human16-04.png', 'human14-29.png', 'human17-09.png', 'human02-17.png', 'human01-27.png', 'human17-23.png', 'human12-29.png', 'human08-13.png', 'human06-19.png', 'human05-07.png', 'human08-09.png', 'human06-27.png', 'human07-12.png', 'human13-26.png', 'human12-22.png', 'human14-06.png', 'human09-01.png', 'human02-00.png', 'human11-14.png', 'human11-03.png', 'human08-28.png', 'human02-26.png', 'human17-19.png', 'human12-11.png', 'human01-29.png', 'human13-03.png', 'human17-29.png', 'human03-12.png', 'human02-28.png', 'human06-17.png', 'human16-24.png', 'human08-12.png', 'human08-23.png', 'human13-02.png', 'human05-26.png', 'human14-18.png', 'human07-30.png', 'human11-24.png', 'human01-21.png', 'human17-21.png', 'human03-15.png', 'human10-15.png', 'human04-03.png', 'human12-26.png', 'human09-04.png', 'human07-01.png', 'human17-26.png', 'human06-12.png', 'human13-23.png', 'human05-12.png', 'human03-30.png', 'human02-30.png', 'human12-17.png', 'human04-08.png', 'human04-14.png', 'human12-27.png', 'human15-07.png', 'human11-12.png', 'human11-09.png', 'human06-02.png', 'human14-08.png', 'human01-05.png', 'human14-10.png', 'human05-05.png', 'human07-22.png', 'human17-13.png', 'human16-11.png', 'human09-14.png', 'human14-24.png', 'human06-28.png', 'human10-11.png', 'human07-28.png', 'human07-02.png', 'human02-11.png', 'human06-11.png', 'human05-28.png', 'human10-07.png', 'human13-12.png', 'human09-19.png', 'human11-18.png', 'human02-04.png', 'human04-18.png', 'human15-03.png', 'human01-24.png', 'human13-14.png', 'human06-13.png', 'human16-16.png', 'human11-16.png', 'human04-12.png', 'human12-10.png', 'human14-12.png', 'human05-10.png', 'human02-21.png', 'human15-16.png', 'human01-13.png', 'human09-03.png', 'human17-02.png', 'human16-12.png', 'human12-04.png', 'human05-02.png', 'human03-09.png', 'human02-09.png', 'human08-02.png', 'human08-03.png', 'human15-12.png', 'human12-24.png', 'human04-06.png', 'human02-15.png', 'human12-03.png', 'human06-30.png', 'human12-12.png', 'human01-28.png', 'human02-23.png', 'human03-22.png', 'human05-11.png', 'human07-17.png', 'human12-00.png', 'human11-07.png', 'human04-29.png', 'human14-22.png', 'human10-03.png', 'human08-11.png', 'human06-08.png', 'human10-05.png', 'human17-22.png', 'human01-01.png', 'human07-00.png', 'human07-24.png', 'human12-21.png', 'human15-05.png', 'human12-08.png', 'human15-02.png', 'human06-23.png', 'human06-14.png', 'human08-05.png', 'human07-11.png', 'human15-11.png', 'human15-23.png', 'human03-13.png', 'human13-25.png', 'human11-23.png', 'human12-01.png', 'human13-24.png', 'human15-18.png', 'human08-24.png', 'human17-16.png', 'human15-19.png', 'human06-25.png', 'human15-15.png', 'human10-02.png', 'human10-01.png', 'human03-25.png', 'human01-11.png', 'human17-25.png', 'human09-27.png', 'human11-01.png', 'human08-29.png', 'human08-07.png', 'human14-05.png', 'human01-10.png', 'human03-19.png', 'human15-29.png', 'human14-30.png', 'human17-15.png', 'human13-00.png', 'human09-18.png', 'human08-18.png', 'human14-04.png', 'human12-06.png', 'human14-28.png', 'human09-20.png', 'human10-14.png', 'human13-30.png', 'human06-07.png', 'human07-19.png', 'human01-07.png', 'human02-18.png', 'human03-00.png', 'human05-08.png', 'human16-00.png', 'human14-14.png', 'human02-08.png', 'human08-22.png', 'human09-02.png', 'human09-00.png', 'human02-14.png', 'human05-04.png', 'human15-25.png', 'human04-15.png', 'human17-24.png', 'human08-21.png', 'human05-25.png', 'human08-30.png', 'human05-21.png', 'human07-27.png', 'human15-20.png', 'human15-24.png', 'human10-18.png', 'human03-27.png', 'human07-25.png', 'human11-17.png', 'human07-21.png', 'human09-28.png', 'human04-02.png', 'human01-22.png', 'human15-30.png', 'human07-06.png', 'human15-26.png', 'human10-12.png', 'human09-07.png', 'human17-20.png', 'human11-27.png', 'human09-06.png', 'human09-29.png', 'human05-27.png', 'human06-29.png', 'human01-06.png', 'human10-22.png', 'human16-03.png', 'human09-16.png', 'human04-00.png', 'human04-05.png', 'human04-26.png', 'human02-03.png', 'human10-28.png', 'human16-15.png', 'human11-02.png', 'human08-26.png', 'human06-15.png', 'human15-09.png', 'human04-09.png', 'human13-05.png', 'human13-19.png', 'human03-24.png', 'human14-17.png', 'human12-23.png', 'human05-24.png', 'human16-09.png', 'human03-05.png', 'human10-21.png', 'human10-09.png', 'human15-17.png', 'human03-18.png', 'human03-26.png', 'human03-04.png', 'human11-04.png', 'human11-29.png', 'human10-20.png', 'human13-06.png', 'human13-15.png', 'human07-09.png', 'human03-29.png', 'human01-20.png', 'human13-09.png', 'human10-00.png', 'human11-26.png', 'human14-20.png', 'human07-07.png', 'human01-02.png', 'human10-10.png', 'human17-03.png', 'human08-25.png', 'human13-10.png', 'human04-23.png', 'human16-14.png', 'human09-17.png', 'human17-30.png', 'human10-23.png', 'human15-27.png', 'human04-21.png', 'human12-18.png', 'human04-24.png', 'human10-08.png', 'human06-18.png', 'human12-07.png', 'human15-22.png', 'human13-18.png', 'human01-19.png', 'human01-18.png', 'human15-01.png', 'human16-28.png', 'human12-16.png', 'human02-20.png', 'human16-07.png', 'human07-23.png', 'human11-11.png', 'human04-27.png', 'human06-03.png', 'human07-03.png', 'human06-26.png', 'human02-07.png', 'human10-29.png', 'human13-04.png', 'human07-13.png', 'human17-17.png', 'human10-17.png', 'human12-25.png', 'human04-04.png', 'human01-04.png', 'human05-29.png', 'human17-28.png', 'human06-10.png', 'human03-06.png', 'human16-25.png', 'human10-26.png', 'human17-07.png', 'human02-12.png', 'human16-01.png', 'human08-06.png', 'human03-10.png', 'human08-00.png', 'human14-23.png', 'human03-08.png', 'human11-21.png', 'human15-00.png', 'human07-26.png', 'human14-16.png', 'human12-13.png', 'human15-14.png', 'human01-25.png', 'human17-00.png', 'human16-17.png', 'human11-06.png', 'human17-18.png', 'human13-11.png', 'human03-07.png', 'human12-28.png', 'human05-00.png', 'human04-20.png', 'human16-23.png', 'human13-21.png', 'human04-10.png', 'human11-08.png', 'human10-06.png', 'human12-14.png', 'human11-10.png', 'human03-23.png', 'human01-09.png', 'human12-20.png', 'human05-23.png', 'human02-25.png', 'human06-22.png', 'human09-30.png', 'human08-01.png', 'human03-17.png', 'human01-23.png', 'human16-08.png', 'human08-17.png', 'human17-06.png', 'human06-20.png', 'human04-07.png', 'human11-00.png', 'human16-18.png', 'human13-20.png', 'human06-04.png', 'human05-14.png', 'human08-04.png', 'human05-30.png', 'human14-15.png', 'human01-14.png', 'human17-08.png', 'human07-15.png', 'human02-22.png', 'human05-17.png', 'human13-08.png', 'human04-25.png', 'human01-08.png', 'human06-09.png', 'human09-12.png', 'human13-16.png', 'human09-21.png', 'human02-29.png', 'human10-27.png', 'human17-10.png', 'human04-17.png', 'human14-07.png', 'human09-13.png', 'human15-10.png', 'human09-23.png', 'human06-24.png', 'human03-21.png', 'human02-13.png', 'human09-24.png', 'human16-06.png', 'human11-28.png', 'human04-19.png', 'human16-02.png', 'human09-08.png', 'human02-02.png', 'human01-00.png', 'human09-05.png', 'human14-01.png', 'human02-05.png', 'human14-02.png', 'human13-07.png', 'human04-13.png', 'human12-30.png', 'human01-17.png', 'human11-25.png', 'human06-21.png', 'human04-16.png', 'human09-22.png', 'human01-03.png', 'human10-16.png', 'human07-05.png']\n",
            "['horse5-342.png', 'horse2-218.png', 'horse1-241.png', 'horse2-441.png', 'horse6-345.png', 'horse5-550.png', 'horse3-141.png', 'horse5-164.png', 'horse1-000.png', 'horse4-495.png', 'horse5-123.png', 'horse2-112.png', 'horse1-384.png', 'horse4-541.png', 'horse4-043.png', 'horse5-400.png', 'horse2-383.png', 'horse5-360.png', 'horse5-002.png', 'horse1-122.png', 'horse1-264.png', 'horse1-411.png', 'horse4-202.png', 'horse2-040.png', 'horse2-201.png', 'horse3-521.png', 'horse2-136.png', 'horse1-170.png', 'horse5-303.png', 'horse5-018.png', 'horse5-519.png', 'horse5-405.png', 'horse1-554.png', 'horse2-183.png', 'horse1-436.png', 'horse2-294.png', 'horse4-548.png', 'horse3-099.png', 'horse5-235.png', 'horse1-568.png', 'horse2-582.png', 'horse1-539.png', 'horse6-198.png', 'horse6-153.png', 'horse5-103.png', 'horse4-468.png', 'horse5-181.png', 'horse3-498.png', 'horse5-083.png', 'horse3-026.png', 'horse3-198.png', 'horse3-584.png', 'horse3-397.png', 'horse4-014.png', 'horse6-064.png', 'horse4-503.png', 'horse4-439.png', 'horse2-254.png', 'horse1-335.png', 'horse5-275.png', 'horse5-065.png', 'horse3-484.png', 'horse6-161.png', 'horse3-255.png', 'horse6-004.png', 'horse2-224.png', 'horse1-276.png', 'horse4-403.png', 'horse5-060.png', 'horse4-599.png', 'horse4-102.png', 'horse2-596.png', 'horse3-326.png', 'horse6-275.png', 'horse2-412.png', 'horse4-588.png', 'horse4-159.png', 'horse5-478.png', 'horse3-171.png', 'horse5-203.png', 'horse5-259.png', 'horse2-011.png', 'horse5-100.png', 'horse1-105.png', 'horse4-072.png', 'horse5-565.png', 'horse3-440.png', 'horse3-469.png', 'horse5-402.png', 'horse4-232.png', 'horse2-368.png', 'horse1-298.png', 'horse2-069.png', 'horse6-403.png', 'horse3-416.png', 'horse3-055.png', 'horse4-389.png', 'horse2-269.png', 'horse3-011.png', 'horse1-204.png', 'horse1-224.png', 'horse4-530.png', 'horse4-000.png', 'horse4-501.png', 'horse6-544.png', 'horse5-076.png', 'horse5-514.png', 'horse4-302.png', 'horse5-589.png', 'horse1-455.png', 'horse3-070.png', 'horse2-544.png', 'horse6-089.png', 'horse5-458.png', 'horse3-217.png', 'horse5-192.png', 'horse3-541.png', 'horse5-032.png', 'horse4-345.png', 'horse5-488.png', 'horse4-556.png', 'horse5-504.png', 'horse1-127.png', 'horse1-510.png', 'horse4-188.png', 'horse6-218.png', 'horse2-314.png', 'horse1-484.png']\n",
            "['valhuman03-18.png', 'valhuman02-16.png', 'valhuman03-22.png', 'valhuman01-18.png', 'valhuman04-00.png', 'valhuman01-13.png', 'valhuman04-05.png', 'valhuman03-19.png', 'valhuman01-19.png', 'valhuman03-12.png', 'valhuman05-07.png', 'valhuman01-23.png', 'valhuman02-04.png', 'valhuman04-10.png', 'valhuman05-20.png', 'valhuman03-04.png', 'valhuman02-17.png', 'valhuman02-00.png', 'valhuman01-09.png', 'valhuman04-18.png', 'valhuman03-13.png', 'valhuman04-03.png', 'valhuman02-13.png', 'valhuman05-17.png', 'valhuman05-18.png', 'valhuman03-24.png', 'valhuman05-00.png', 'valhuman05-10.png', 'valhuman01-17.png', 'valhuman05-09.png', 'valhuman04-20.png', 'valhuman02-18.png', 'valhuman02-05.png', 'valhuman05-16.png', 'valhuman04-24.png', 'valhuman03-09.png', 'valhuman03-23.png', 'valhuman04-07.png', 'valhuman03-21.png', 'valhuman02-14.png', 'valhuman03-07.png', 'valhuman01-06.png', 'valhuman04-14.png', 'valhuman02-23.png', 'valhuman02-15.png', 'valhuman05-19.png', 'valhuman05-05.png', 'valhuman03-02.png', 'valhuman03-20.png', 'valhuman03-14.png', 'valhuman05-22.png', 'valhuman03-00.png', 'valhuman02-03.png', 'valhuman04-15.png', 'valhuman02-24.png', 'valhuman03-17.png', 'valhuman03-06.png', 'valhuman05-06.png', 'valhuman02-20.png', 'valhuman04-22.png', 'valhuman03-16.png', 'valhuman04-06.png', 'valhuman01-08.png', 'valhuman05-26.png', 'valhuman01-20.png', 'valhuman01-12.png', 'valhuman04-12.png', 'valhuman04-08.png', 'valhuman01-14.png', 'valhuman04-11.png', 'valhuman02-06.png', 'valhuman05-27.png', 'valhuman02-07.png', 'valhuman01-02.png', 'valhuman02-09.png', 'valhuman05-13.png', 'valhuman03-03.png', 'valhuman05-01.png', 'valhuman04-23.png', 'valhuman05-04.png', 'valhuman02-10.png', 'valhuman01-22.png', 'valhuman01-10.png', 'valhuman02-08.png', 'valhuman05-11.png', 'valhuman02-19.png', 'valhuman02-02.png', 'valhuman05-24.png', 'valhuman04-21.png', 'valhuman01-03.png', 'valhuman01-24.png', 'valhuman03-08.png', 'valhuman04-17.png', 'valhuman03-01.png', 'valhuman04-09.png', 'valhuman01-11.png', 'valhuman04-02.png', 'valhuman02-22.png', 'valhuman03-05.png', 'valhuman02-11.png', 'valhuman01-04.png', 'valhuman04-01.png', 'valhuman01-15.png', 'valhuman05-23.png', 'valhuman05-15.png', 'valhuman05-03.png', 'valhuman01-16.png', 'valhuman03-15.png', 'valhuman05-02.png', 'valhuman01-01.png', 'valhuman01-05.png', 'valhuman05-25.png', 'valhuman02-01.png', 'valhuman01-00.png', 'valhuman04-13.png', 'valhuman03-10.png', 'valhuman05-12.png', 'valhuman01-07.png', 'valhuman04-04.png', 'valhuman05-08.png', 'valhuman04-19.png', 'valhuman03-11.png', 'valhuman04-16.png', 'valhuman05-14.png', 'valhuman01-21.png', 'valhuman02-21.png', 'valhuman05-21.png', 'valhuman02-12.png']\n"
          ],
          "name": "stdout"
        }
      ]
    },
    {
      "cell_type": "code",
      "metadata": {
        "colab_type": "code",
        "id": "BlKVEsuyK0iH",
        "colab": {
          "base_uri": "https://localhost:8080/",
          "height": 50
        },
        "outputId": "221cc1fd-8b52-4a8a-b6c9-8b7346703c7a"
      },
      "source": [
        "# Define our example directories and files\n",
        "train_dir = '/tmp/training'\n",
        "validation_dir = '/tmp/validation'\n",
        "\n",
        "# Add our data-augmentation parameters to ImageDataGenerator\n",
        "train_datagen = ImageDataGenerator(rescale = 1./255.,\n",
        "                                   rotation_range = 40,\n",
        "                                   width_shift_range = 0.2,\n",
        "                                   height_shift_range = 0.2,\n",
        "                                   shear_range = 0.2,\n",
        "                                   zoom_range = 0.2,\n",
        "                                   horizontal_flip = True)# Your Code Here)\n",
        "\n",
        "# Note that the validation data should not be augmented!\n",
        "test_datagen = ImageDataGenerator(rescale = 1.0/255.) # Your Code Here )\n",
        "\n",
        "# Flow training images in batches of 20 using train_datagen generator\n",
        "train_generator = train_datagen.flow_from_directory(train_dir,\n",
        "                                                    batch_size = 20,\n",
        "                                                    class_mode = 'binary', \n",
        "                                                    target_size = (150, 150))# Your Code Here)     \n",
        "\n",
        "# Flow validation images in batches of 20 using test_datagen generator\n",
        "validation_generator =  test_datagen.flow_from_directory(validation_dir,\n",
        "                                                          batch_size  = 20,\n",
        "                                                          class_mode  = 'binary', \n",
        "                                                          target_size = (150, 150)) # Your Code Here)\n",
        "\n",
        "# Expected Output:\n",
        "# Found 1027 images belonging to 2 classes.\n",
        "# Found 256 images belonging to 2 classes."
      ],
      "execution_count": 9,
      "outputs": [
        {
          "output_type": "stream",
          "text": [
            "Found 1027 images belonging to 2 classes.\n",
            "Found 256 images belonging to 2 classes.\n"
          ],
          "name": "stdout"
        }
      ]
    },
    {
      "cell_type": "code",
      "metadata": {
        "colab_type": "code",
        "id": "Blhq2MAUeyGA",
        "colab": {
          "base_uri": "https://localhost:8080/",
          "height": 1000
        },
        "outputId": "3aad82aa-10c1-4c11-bb02-4666e7af67f8"
      },
      "source": [
        "# Run this and see how many epochs it should take before the callback\n",
        "# fires, and stops training at 99.9% accuracy\n",
        "# (It should take less than 100 epochs)\n",
        "\n",
        "callbacks =myCallback() # Your Code Here\n",
        "history = model.fit_generator(\n",
        "            train_generator,\n",
        "            validation_data = validation_generator,\n",
        "            steps_per_epoch = 100,\n",
        "            epochs = 20,\n",
        "            validation_steps = 50,\n",
        "            verbose = 2,\n",
        "            callbacks=[callbacks])"
      ],
      "execution_count": 10,
      "outputs": [
        {
          "output_type": "stream",
          "text": [
            "Epoch 1/20\n",
            "Epoch 1/20\n",
            "100/100 - 33s - loss: 0.1873 - acc: 0.9291 - val_loss: 0.2390 - val_acc: 0.9676\n",
            "Epoch 2/20\n",
            "Epoch 1/20\n",
            "100/100 - 24s - loss: 0.0870 - acc: 0.9747 - val_loss: 0.0090 - val_acc: 0.9970\n",
            "Epoch 3/20\n",
            "Epoch 1/20\n",
            "100/100 - 24s - loss: 0.0269 - acc: 0.9909 - val_loss: 0.0017 - val_acc: 1.0000\n",
            "Epoch 4/20\n",
            "Epoch 1/20\n",
            "100/100 - 23s - loss: 0.0433 - acc: 0.9868 - val_loss: 0.1352 - val_acc: 0.9767\n",
            "Epoch 5/20\n",
            "Epoch 1/20\n",
            "100/100 - 22s - loss: 0.0452 - acc: 0.9868 - val_loss: 0.0670 - val_acc: 0.9879\n",
            "Epoch 6/20\n",
            "Epoch 1/20\n",
            "100/100 - 23s - loss: 0.0152 - acc: 0.9939 - val_loss: 0.0250 - val_acc: 0.9960\n",
            "Epoch 7/20\n",
            "Epoch 1/20\n",
            "100/100 - 23s - loss: 0.0415 - acc: 0.9909 - val_loss: 0.1434 - val_acc: 0.9798\n",
            "Epoch 8/20\n",
            "Epoch 1/20\n",
            "100/100 - 23s - loss: 0.0186 - acc: 0.9934 - val_loss: 0.0561 - val_acc: 0.9960\n",
            "Epoch 9/20\n",
            "Epoch 1/20\n",
            "100/100 - 24s - loss: 0.0231 - acc: 0.9929 - val_loss: 0.2016 - val_acc: 0.9686\n",
            "Epoch 10/20\n",
            "Epoch 1/20\n",
            "100/100 - 24s - loss: 0.0319 - acc: 0.9898 - val_loss: 0.3056 - val_acc: 0.9676\n",
            "Epoch 11/20\n",
            "Epoch 1/20\n",
            "100/100 - 24s - loss: 0.0151 - acc: 0.9940 - val_loss: 0.4507 - val_acc: 0.9605\n",
            "Epoch 12/20\n",
            "Epoch 1/20\n",
            "100/100 - 23s - loss: 0.0469 - acc: 0.9878 - val_loss: 0.8383 - val_acc: 0.9433\n",
            "Epoch 13/20\n",
            "Epoch 1/20\n",
            "100/100 - 23s - loss: 0.0281 - acc: 0.9909 - val_loss: 0.1477 - val_acc: 0.9798\n",
            "Epoch 14/20\n",
            "Epoch 1/20\n",
            "100/100 - 22s - loss: 0.0254 - acc: 0.9934 - val_loss: 0.5942 - val_acc: 0.9504\n",
            "Epoch 15/20\n",
            "Epoch 1/20\n",
            "100/100 - 24s - loss: 0.0303 - acc: 0.9919 - val_loss: 0.5381 - val_acc: 0.9585\n",
            "Epoch 16/20\n",
            "Epoch 1/20\n",
            "100/100 - 24s - loss: 0.0160 - acc: 0.9954 - val_loss: 0.6952 - val_acc: 0.9555\n",
            "Epoch 17/20\n",
            "Epoch 1/20\n",
            "100/100 - 24s - loss: 0.0076 - acc: 0.9965 - val_loss: 0.2743 - val_acc: 0.9676\n",
            "Epoch 18/20\n",
            "Epoch 1/20\n",
            "100/100 - 23s - loss: 0.0209 - acc: 0.9949 - val_loss: 0.4630 - val_acc: 0.9565\n",
            "Epoch 19/20\n",
            "Epoch 1/20\n",
            "100/100 - 23s - loss: 0.0145 - acc: 0.9939 - val_loss: 0.3305 - val_acc: 0.9646\n",
            "Epoch 20/20\n",
            "Epoch 1/20\n",
            "100/100 - 23s - loss: 0.0281 - acc: 0.9925 - val_loss: 0.2715 - val_acc: 0.9676\n"
          ],
          "name": "stdout"
        }
      ]
    },
    {
      "cell_type": "code",
      "metadata": {
        "id": "C2Fp6Se9rKuL",
        "colab_type": "code",
        "colab": {
          "base_uri": "https://localhost:8080/",
          "height": 297
        },
        "outputId": "4c880d6f-7d01-43ed-b673-82357f26452c"
      },
      "source": [
        "import matplotlib.pyplot as plt\n",
        "acc = history.history['acc']\n",
        "val_acc = history.history['val_acc']\n",
        "loss = history.history['loss']\n",
        "val_loss = history.history['val_loss']\n",
        "\n",
        "epochs = range(len(acc))\n",
        "\n",
        "plt.plot(epochs, acc, 'r', label='Training accuracy')\n",
        "plt.plot(epochs, val_acc, 'b', label='Validation accuracy')\n",
        "plt.title('Training and validation accuracy')\n",
        "plt.legend(loc=0)\n",
        "plt.figure()\n",
        "\n",
        "\n",
        "plt.show()"
      ],
      "execution_count": 11,
      "outputs": [
        {
          "output_type": "display_data",
          "data": {
            "image/png": "[encoded data removed]",
            "text/plain": [
              "<Figure size 432x288 with 1 Axes>"
            ]
          },
          "metadata": {
            "tags": []
          }
        },
        {
          "output_type": "display_data",
          "data": {
            "text/plain": [
              "<Figure size 432x288 with 0 Axes>"
            ]
          },
          "metadata": {
            "tags": []
          }
        }
      ]
    }
  ]
}